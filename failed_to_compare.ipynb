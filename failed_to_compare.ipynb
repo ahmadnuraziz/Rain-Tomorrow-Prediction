{
 "cells": [
  {
   "cell_type": "code",
   "execution_count": 1,
   "metadata": {
    "collapsed": false
   },
   "outputs": [
    {
     "name": "stderr",
     "output_type": "stream",
     "text": [
      "Using TensorFlow backend.\n"
     ]
    }
   ],
   "source": [
    "%matplotlib inline\n",
    "#import seaborn; seaborn.set()\n",
    "import pandas as pd\n",
    "import matplotlib.pyplot as plt\n",
    "import numpy as np\n",
    "\n",
    "from sklearn.impute import SimpleImputer\n",
    "from sklearn.preprocessing import OneHotEncoder\n",
    "from sklearn.pipeline import Pipeline\n",
    "from sklearn.preprocessing import Normalizer\n",
    "from sklearn.compose import ColumnTransformer\n",
    "\n",
    "from sklearn.model_selection import train_test_split\n",
    "from sklearn.model_selection import cross_val_score\n",
    "from sklearn.metrics import confusion_matrix\n",
    "\n",
    "from sklearn.ensemble import RandomForestClassifier\n",
    "from sklearn.tree import DecisionTreeClassifier\n",
    "\n",
    "from sklearn.model_selection import GridSearchCV\n",
    "from sklearn.ensemble import AdaBoostClassifier\n",
    "\n",
    "from sklearn.feature_selection import SelectFromModel\n",
    "from sklearn.metrics import accuracy_score\n",
    "from sklearn.metrics import classification_report\n",
    "\n",
    "from keras.callbacks import EarlyStopping\n",
    "\n",
    "from keras.layers import Dense\n",
    "from keras.models import Sequential"
   ]
  },
  {
   "cell_type": "code",
   "execution_count": 2,
   "metadata": {
    "collapsed": false
   },
   "outputs": [
    {
     "data": {
      "text/html": [
       "<div>\n",
       "<style scoped>\n",
       "    .dataframe tbody tr th:only-of-type {\n",
       "        vertical-align: middle;\n",
       "    }\n",
       "\n",
       "    .dataframe tbody tr th {\n",
       "        vertical-align: top;\n",
       "    }\n",
       "\n",
       "    .dataframe thead th {\n",
       "        text-align: right;\n",
       "    }\n",
       "</style>\n",
       "<table border=\"1\" class=\"dataframe\">\n",
       "  <thead>\n",
       "    <tr style=\"text-align: right;\">\n",
       "      <th></th>\n",
       "      <th>Date</th>\n",
       "      <th>Location</th>\n",
       "      <th>MinTemp</th>\n",
       "      <th>MaxTemp</th>\n",
       "      <th>Rainfall</th>\n",
       "      <th>Evaporation</th>\n",
       "      <th>Sunshine</th>\n",
       "      <th>WindGustDir</th>\n",
       "      <th>WindGustSpeed</th>\n",
       "      <th>WindDir9am</th>\n",
       "      <th>...</th>\n",
       "      <th>Humidity3pm</th>\n",
       "      <th>Pressure9am</th>\n",
       "      <th>Pressure3pm</th>\n",
       "      <th>Cloud9am</th>\n",
       "      <th>Cloud3pm</th>\n",
       "      <th>Temp9am</th>\n",
       "      <th>Temp3pm</th>\n",
       "      <th>RainToday</th>\n",
       "      <th>RISK_MM</th>\n",
       "      <th>RainTomorrow</th>\n",
       "    </tr>\n",
       "  </thead>\n",
       "  <tbody>\n",
       "    <tr>\n",
       "      <th>0</th>\n",
       "      <td>2008-12-01</td>\n",
       "      <td>Albury</td>\n",
       "      <td>13.4</td>\n",
       "      <td>22.9</td>\n",
       "      <td>0.6</td>\n",
       "      <td>NaN</td>\n",
       "      <td>NaN</td>\n",
       "      <td>W</td>\n",
       "      <td>44.0</td>\n",
       "      <td>W</td>\n",
       "      <td>...</td>\n",
       "      <td>22.0</td>\n",
       "      <td>1007.7</td>\n",
       "      <td>1007.1</td>\n",
       "      <td>8.0</td>\n",
       "      <td>NaN</td>\n",
       "      <td>16.9</td>\n",
       "      <td>21.8</td>\n",
       "      <td>No</td>\n",
       "      <td>0.0</td>\n",
       "      <td>No</td>\n",
       "    </tr>\n",
       "    <tr>\n",
       "      <th>1</th>\n",
       "      <td>2008-12-02</td>\n",
       "      <td>Albury</td>\n",
       "      <td>7.4</td>\n",
       "      <td>25.1</td>\n",
       "      <td>0.0</td>\n",
       "      <td>NaN</td>\n",
       "      <td>NaN</td>\n",
       "      <td>WNW</td>\n",
       "      <td>44.0</td>\n",
       "      <td>NNW</td>\n",
       "      <td>...</td>\n",
       "      <td>25.0</td>\n",
       "      <td>1010.6</td>\n",
       "      <td>1007.8</td>\n",
       "      <td>NaN</td>\n",
       "      <td>NaN</td>\n",
       "      <td>17.2</td>\n",
       "      <td>24.3</td>\n",
       "      <td>No</td>\n",
       "      <td>0.0</td>\n",
       "      <td>No</td>\n",
       "    </tr>\n",
       "    <tr>\n",
       "      <th>2</th>\n",
       "      <td>2008-12-03</td>\n",
       "      <td>Albury</td>\n",
       "      <td>12.9</td>\n",
       "      <td>25.7</td>\n",
       "      <td>0.0</td>\n",
       "      <td>NaN</td>\n",
       "      <td>NaN</td>\n",
       "      <td>WSW</td>\n",
       "      <td>46.0</td>\n",
       "      <td>W</td>\n",
       "      <td>...</td>\n",
       "      <td>30.0</td>\n",
       "      <td>1007.6</td>\n",
       "      <td>1008.7</td>\n",
       "      <td>NaN</td>\n",
       "      <td>2.0</td>\n",
       "      <td>21.0</td>\n",
       "      <td>23.2</td>\n",
       "      <td>No</td>\n",
       "      <td>0.0</td>\n",
       "      <td>No</td>\n",
       "    </tr>\n",
       "    <tr>\n",
       "      <th>3</th>\n",
       "      <td>2008-12-04</td>\n",
       "      <td>Albury</td>\n",
       "      <td>9.2</td>\n",
       "      <td>28.0</td>\n",
       "      <td>0.0</td>\n",
       "      <td>NaN</td>\n",
       "      <td>NaN</td>\n",
       "      <td>NE</td>\n",
       "      <td>24.0</td>\n",
       "      <td>SE</td>\n",
       "      <td>...</td>\n",
       "      <td>16.0</td>\n",
       "      <td>1017.6</td>\n",
       "      <td>1012.8</td>\n",
       "      <td>NaN</td>\n",
       "      <td>NaN</td>\n",
       "      <td>18.1</td>\n",
       "      <td>26.5</td>\n",
       "      <td>No</td>\n",
       "      <td>1.0</td>\n",
       "      <td>No</td>\n",
       "    </tr>\n",
       "    <tr>\n",
       "      <th>4</th>\n",
       "      <td>2008-12-05</td>\n",
       "      <td>Albury</td>\n",
       "      <td>17.5</td>\n",
       "      <td>32.3</td>\n",
       "      <td>1.0</td>\n",
       "      <td>NaN</td>\n",
       "      <td>NaN</td>\n",
       "      <td>W</td>\n",
       "      <td>41.0</td>\n",
       "      <td>ENE</td>\n",
       "      <td>...</td>\n",
       "      <td>33.0</td>\n",
       "      <td>1010.8</td>\n",
       "      <td>1006.0</td>\n",
       "      <td>7.0</td>\n",
       "      <td>8.0</td>\n",
       "      <td>17.8</td>\n",
       "      <td>29.7</td>\n",
       "      <td>No</td>\n",
       "      <td>0.2</td>\n",
       "      <td>No</td>\n",
       "    </tr>\n",
       "  </tbody>\n",
       "</table>\n",
       "<p>5 rows × 24 columns</p>\n",
       "</div>"
      ],
      "text/plain": [
       "         Date Location  MinTemp  MaxTemp  Rainfall  Evaporation  Sunshine  \\\n",
       "0  2008-12-01   Albury     13.4     22.9       0.6          NaN       NaN   \n",
       "1  2008-12-02   Albury      7.4     25.1       0.0          NaN       NaN   \n",
       "2  2008-12-03   Albury     12.9     25.7       0.0          NaN       NaN   \n",
       "3  2008-12-04   Albury      9.2     28.0       0.0          NaN       NaN   \n",
       "4  2008-12-05   Albury     17.5     32.3       1.0          NaN       NaN   \n",
       "\n",
       "  WindGustDir  WindGustSpeed WindDir9am  ... Humidity3pm  Pressure9am  \\\n",
       "0           W           44.0          W  ...        22.0       1007.7   \n",
       "1         WNW           44.0        NNW  ...        25.0       1010.6   \n",
       "2         WSW           46.0          W  ...        30.0       1007.6   \n",
       "3          NE           24.0         SE  ...        16.0       1017.6   \n",
       "4           W           41.0        ENE  ...        33.0       1010.8   \n",
       "\n",
       "   Pressure3pm  Cloud9am  Cloud3pm  Temp9am  Temp3pm  RainToday  RISK_MM  \\\n",
       "0       1007.1       8.0       NaN     16.9     21.8         No      0.0   \n",
       "1       1007.8       NaN       NaN     17.2     24.3         No      0.0   \n",
       "2       1008.7       NaN       2.0     21.0     23.2         No      0.0   \n",
       "3       1012.8       NaN       NaN     18.1     26.5         No      1.0   \n",
       "4       1006.0       7.0       8.0     17.8     29.7         No      0.2   \n",
       "\n",
       "   RainTomorrow  \n",
       "0            No  \n",
       "1            No  \n",
       "2            No  \n",
       "3            No  \n",
       "4            No  \n",
       "\n",
       "[5 rows x 24 columns]"
      ]
     },
     "execution_count": 2,
     "metadata": {},
     "output_type": "execute_result"
    }
   ],
   "source": [
    "data = pd.read_csv('weatherAUS.csv')\n",
    "data.head()"
   ]
  },
  {
   "cell_type": "code",
   "execution_count": 3,
   "metadata": {
    "collapsed": true
   },
   "outputs": [],
   "source": [
    "data.drop(['Date','Location','RISK_MM'],axis=1,inplace=True)"
   ]
  },
  {
   "cell_type": "code",
   "execution_count": 4,
   "metadata": {
    "collapsed": false
   },
   "outputs": [
    {
     "data": {
      "text/html": [
       "<div>\n",
       "<style scoped>\n",
       "    .dataframe tbody tr th:only-of-type {\n",
       "        vertical-align: middle;\n",
       "    }\n",
       "\n",
       "    .dataframe tbody tr th {\n",
       "        vertical-align: top;\n",
       "    }\n",
       "\n",
       "    .dataframe thead th {\n",
       "        text-align: right;\n",
       "    }\n",
       "</style>\n",
       "<table border=\"1\" class=\"dataframe\">\n",
       "  <thead>\n",
       "    <tr style=\"text-align: right;\">\n",
       "      <th></th>\n",
       "      <th>MinTemp</th>\n",
       "      <th>MaxTemp</th>\n",
       "      <th>Rainfall</th>\n",
       "      <th>Evaporation</th>\n",
       "      <th>Sunshine</th>\n",
       "      <th>WindGustSpeed</th>\n",
       "      <th>WindSpeed9am</th>\n",
       "      <th>WindSpeed3pm</th>\n",
       "      <th>Humidity9am</th>\n",
       "      <th>Humidity3pm</th>\n",
       "      <th>Pressure9am</th>\n",
       "      <th>Pressure3pm</th>\n",
       "      <th>Cloud9am</th>\n",
       "      <th>Cloud3pm</th>\n",
       "      <th>Temp9am</th>\n",
       "      <th>Temp3pm</th>\n",
       "    </tr>\n",
       "  </thead>\n",
       "  <tbody>\n",
       "    <tr>\n",
       "      <th>count</th>\n",
       "      <td>141556.000000</td>\n",
       "      <td>141871.000000</td>\n",
       "      <td>140787.000000</td>\n",
       "      <td>81350.000000</td>\n",
       "      <td>74377.000000</td>\n",
       "      <td>132923.000000</td>\n",
       "      <td>140845.000000</td>\n",
       "      <td>139563.000000</td>\n",
       "      <td>140419.000000</td>\n",
       "      <td>138583.000000</td>\n",
       "      <td>128179.000000</td>\n",
       "      <td>128212.000000</td>\n",
       "      <td>88536.000000</td>\n",
       "      <td>85099.000000</td>\n",
       "      <td>141289.000000</td>\n",
       "      <td>139467.000000</td>\n",
       "    </tr>\n",
       "    <tr>\n",
       "      <th>mean</th>\n",
       "      <td>12.186400</td>\n",
       "      <td>23.226784</td>\n",
       "      <td>2.349974</td>\n",
       "      <td>5.469824</td>\n",
       "      <td>7.624853</td>\n",
       "      <td>39.984292</td>\n",
       "      <td>14.001988</td>\n",
       "      <td>18.637576</td>\n",
       "      <td>68.843810</td>\n",
       "      <td>51.482606</td>\n",
       "      <td>1017.653758</td>\n",
       "      <td>1015.258204</td>\n",
       "      <td>4.437189</td>\n",
       "      <td>4.503167</td>\n",
       "      <td>16.987509</td>\n",
       "      <td>21.687235</td>\n",
       "    </tr>\n",
       "    <tr>\n",
       "      <th>std</th>\n",
       "      <td>6.403283</td>\n",
       "      <td>7.117618</td>\n",
       "      <td>8.465173</td>\n",
       "      <td>4.188537</td>\n",
       "      <td>3.781525</td>\n",
       "      <td>13.588801</td>\n",
       "      <td>8.893337</td>\n",
       "      <td>8.803345</td>\n",
       "      <td>19.051293</td>\n",
       "      <td>20.797772</td>\n",
       "      <td>7.105476</td>\n",
       "      <td>7.036677</td>\n",
       "      <td>2.887016</td>\n",
       "      <td>2.720633</td>\n",
       "      <td>6.492838</td>\n",
       "      <td>6.937594</td>\n",
       "    </tr>\n",
       "    <tr>\n",
       "      <th>min</th>\n",
       "      <td>-8.500000</td>\n",
       "      <td>-4.800000</td>\n",
       "      <td>0.000000</td>\n",
       "      <td>0.000000</td>\n",
       "      <td>0.000000</td>\n",
       "      <td>6.000000</td>\n",
       "      <td>0.000000</td>\n",
       "      <td>0.000000</td>\n",
       "      <td>0.000000</td>\n",
       "      <td>0.000000</td>\n",
       "      <td>980.500000</td>\n",
       "      <td>977.100000</td>\n",
       "      <td>0.000000</td>\n",
       "      <td>0.000000</td>\n",
       "      <td>-7.200000</td>\n",
       "      <td>-5.400000</td>\n",
       "    </tr>\n",
       "    <tr>\n",
       "      <th>25%</th>\n",
       "      <td>7.600000</td>\n",
       "      <td>17.900000</td>\n",
       "      <td>0.000000</td>\n",
       "      <td>2.600000</td>\n",
       "      <td>4.900000</td>\n",
       "      <td>31.000000</td>\n",
       "      <td>7.000000</td>\n",
       "      <td>13.000000</td>\n",
       "      <td>57.000000</td>\n",
       "      <td>37.000000</td>\n",
       "      <td>1012.900000</td>\n",
       "      <td>1010.400000</td>\n",
       "      <td>1.000000</td>\n",
       "      <td>2.000000</td>\n",
       "      <td>12.300000</td>\n",
       "      <td>16.600000</td>\n",
       "    </tr>\n",
       "    <tr>\n",
       "      <th>50%</th>\n",
       "      <td>12.000000</td>\n",
       "      <td>22.600000</td>\n",
       "      <td>0.000000</td>\n",
       "      <td>4.800000</td>\n",
       "      <td>8.500000</td>\n",
       "      <td>39.000000</td>\n",
       "      <td>13.000000</td>\n",
       "      <td>19.000000</td>\n",
       "      <td>70.000000</td>\n",
       "      <td>52.000000</td>\n",
       "      <td>1017.600000</td>\n",
       "      <td>1015.200000</td>\n",
       "      <td>5.000000</td>\n",
       "      <td>5.000000</td>\n",
       "      <td>16.700000</td>\n",
       "      <td>21.100000</td>\n",
       "    </tr>\n",
       "    <tr>\n",
       "      <th>75%</th>\n",
       "      <td>16.800000</td>\n",
       "      <td>28.200000</td>\n",
       "      <td>0.800000</td>\n",
       "      <td>7.400000</td>\n",
       "      <td>10.600000</td>\n",
       "      <td>48.000000</td>\n",
       "      <td>19.000000</td>\n",
       "      <td>24.000000</td>\n",
       "      <td>83.000000</td>\n",
       "      <td>66.000000</td>\n",
       "      <td>1022.400000</td>\n",
       "      <td>1020.000000</td>\n",
       "      <td>7.000000</td>\n",
       "      <td>7.000000</td>\n",
       "      <td>21.600000</td>\n",
       "      <td>26.400000</td>\n",
       "    </tr>\n",
       "    <tr>\n",
       "      <th>max</th>\n",
       "      <td>33.900000</td>\n",
       "      <td>48.100000</td>\n",
       "      <td>371.000000</td>\n",
       "      <td>145.000000</td>\n",
       "      <td>14.500000</td>\n",
       "      <td>135.000000</td>\n",
       "      <td>130.000000</td>\n",
       "      <td>87.000000</td>\n",
       "      <td>100.000000</td>\n",
       "      <td>100.000000</td>\n",
       "      <td>1041.000000</td>\n",
       "      <td>1039.600000</td>\n",
       "      <td>9.000000</td>\n",
       "      <td>9.000000</td>\n",
       "      <td>40.200000</td>\n",
       "      <td>46.700000</td>\n",
       "    </tr>\n",
       "  </tbody>\n",
       "</table>\n",
       "</div>"
      ],
      "text/plain": [
       "             MinTemp        MaxTemp       Rainfall   Evaporation  \\\n",
       "count  141556.000000  141871.000000  140787.000000  81350.000000   \n",
       "mean       12.186400      23.226784       2.349974      5.469824   \n",
       "std         6.403283       7.117618       8.465173      4.188537   \n",
       "min        -8.500000      -4.800000       0.000000      0.000000   \n",
       "25%         7.600000      17.900000       0.000000      2.600000   \n",
       "50%        12.000000      22.600000       0.000000      4.800000   \n",
       "75%        16.800000      28.200000       0.800000      7.400000   \n",
       "max        33.900000      48.100000     371.000000    145.000000   \n",
       "\n",
       "           Sunshine  WindGustSpeed   WindSpeed9am   WindSpeed3pm  \\\n",
       "count  74377.000000  132923.000000  140845.000000  139563.000000   \n",
       "mean       7.624853      39.984292      14.001988      18.637576   \n",
       "std        3.781525      13.588801       8.893337       8.803345   \n",
       "min        0.000000       6.000000       0.000000       0.000000   \n",
       "25%        4.900000      31.000000       7.000000      13.000000   \n",
       "50%        8.500000      39.000000      13.000000      19.000000   \n",
       "75%       10.600000      48.000000      19.000000      24.000000   \n",
       "max       14.500000     135.000000     130.000000      87.000000   \n",
       "\n",
       "         Humidity9am    Humidity3pm    Pressure9am    Pressure3pm  \\\n",
       "count  140419.000000  138583.000000  128179.000000  128212.000000   \n",
       "mean       68.843810      51.482606    1017.653758    1015.258204   \n",
       "std        19.051293      20.797772       7.105476       7.036677   \n",
       "min         0.000000       0.000000     980.500000     977.100000   \n",
       "25%        57.000000      37.000000    1012.900000    1010.400000   \n",
       "50%        70.000000      52.000000    1017.600000    1015.200000   \n",
       "75%        83.000000      66.000000    1022.400000    1020.000000   \n",
       "max       100.000000     100.000000    1041.000000    1039.600000   \n",
       "\n",
       "           Cloud9am      Cloud3pm        Temp9am        Temp3pm  \n",
       "count  88536.000000  85099.000000  141289.000000  139467.000000  \n",
       "mean       4.437189      4.503167      16.987509      21.687235  \n",
       "std        2.887016      2.720633       6.492838       6.937594  \n",
       "min        0.000000      0.000000      -7.200000      -5.400000  \n",
       "25%        1.000000      2.000000      12.300000      16.600000  \n",
       "50%        5.000000      5.000000      16.700000      21.100000  \n",
       "75%        7.000000      7.000000      21.600000      26.400000  \n",
       "max        9.000000      9.000000      40.200000      46.700000  "
      ]
     },
     "execution_count": 4,
     "metadata": {},
     "output_type": "execute_result"
    }
   ],
   "source": [
    "data.describe()"
   ]
  },
  {
   "cell_type": "code",
   "execution_count": 5,
   "metadata": {
    "collapsed": false
   },
   "outputs": [
    {
     "name": "stdout",
     "output_type": "stream",
     "text": [
      "<class 'pandas.core.frame.DataFrame'>\n",
      "RangeIndex: 142193 entries, 0 to 142192\n",
      "Data columns (total 21 columns):\n",
      "MinTemp          141556 non-null float64\n",
      "MaxTemp          141871 non-null float64\n",
      "Rainfall         140787 non-null float64\n",
      "Evaporation      81350 non-null float64\n",
      "Sunshine         74377 non-null float64\n",
      "WindGustDir      132863 non-null object\n",
      "WindGustSpeed    132923 non-null float64\n",
      "WindDir9am       132180 non-null object\n",
      "WindDir3pm       138415 non-null object\n",
      "WindSpeed9am     140845 non-null float64\n",
      "WindSpeed3pm     139563 non-null float64\n",
      "Humidity9am      140419 non-null float64\n",
      "Humidity3pm      138583 non-null float64\n",
      "Pressure9am      128179 non-null float64\n",
      "Pressure3pm      128212 non-null float64\n",
      "Cloud9am         88536 non-null float64\n",
      "Cloud3pm         85099 non-null float64\n",
      "Temp9am          141289 non-null float64\n",
      "Temp3pm          139467 non-null float64\n",
      "RainToday        140787 non-null object\n",
      "RainTomorrow     142193 non-null object\n",
      "dtypes: float64(16), object(5)\n",
      "memory usage: 22.8+ MB\n"
     ]
    }
   ],
   "source": [
    "data.info()"
   ]
  },
  {
   "cell_type": "code",
   "execution_count": 6,
   "metadata": {
    "collapsed": true
   },
   "outputs": [],
   "source": [
    "data['WindGustDir'] = data['WindGustDir'].astype('category')\n",
    "data['WindDir9am'] = data['WindDir9am'].astype('category')\n",
    "data['WindDir3pm'] = data['WindDir3pm'].astype('category')\n",
    "data['RainToday'] = data['RainToday'].astype('category')"
   ]
  },
  {
   "cell_type": "code",
   "execution_count": 7,
   "metadata": {
    "collapsed": true
   },
   "outputs": [],
   "source": [
    "#data['RainToday'] = [1 if i=='Yes' else 0 for i in data.loc[:,'RainToday']]\n",
    "data['RainTomorrow'] = [1 if i=='Yes' else 0 for i in data.loc[:,'RainTomorrow']]"
   ]
  },
  {
   "cell_type": "code",
   "execution_count": null,
   "metadata": {
    "collapsed": true
   },
   "outputs": [],
   "source": []
  },
  {
   "cell_type": "code",
   "execution_count": null,
   "metadata": {
    "collapsed": true
   },
   "outputs": [],
   "source": []
  },
  {
   "cell_type": "code",
   "execution_count": 8,
   "metadata": {
    "collapsed": true
   },
   "outputs": [],
   "source": [
    "X_train, X_test, y_train, y_test = train_test_split(data.iloc[:,:-1], data.iloc[:,-1], test_size=0.33, random_state=42)"
   ]
  },
  {
   "cell_type": "code",
   "execution_count": 9,
   "metadata": {
    "collapsed": false
   },
   "outputs": [
    {
     "data": {
      "text/html": [
       "<div>\n",
       "<style scoped>\n",
       "    .dataframe tbody tr th:only-of-type {\n",
       "        vertical-align: middle;\n",
       "    }\n",
       "\n",
       "    .dataframe tbody tr th {\n",
       "        vertical-align: top;\n",
       "    }\n",
       "\n",
       "    .dataframe thead th {\n",
       "        text-align: right;\n",
       "    }\n",
       "</style>\n",
       "<table border=\"1\" class=\"dataframe\">\n",
       "  <thead>\n",
       "    <tr style=\"text-align: right;\">\n",
       "      <th></th>\n",
       "      <th>MinTemp</th>\n",
       "      <th>MaxTemp</th>\n",
       "      <th>Rainfall</th>\n",
       "      <th>Evaporation</th>\n",
       "      <th>Sunshine</th>\n",
       "      <th>WindGustDir</th>\n",
       "      <th>WindGustSpeed</th>\n",
       "      <th>WindDir9am</th>\n",
       "      <th>WindDir3pm</th>\n",
       "      <th>WindSpeed9am</th>\n",
       "      <th>WindSpeed3pm</th>\n",
       "      <th>Humidity9am</th>\n",
       "      <th>Humidity3pm</th>\n",
       "      <th>Pressure9am</th>\n",
       "      <th>Pressure3pm</th>\n",
       "      <th>Cloud9am</th>\n",
       "      <th>Cloud3pm</th>\n",
       "      <th>Temp9am</th>\n",
       "      <th>Temp3pm</th>\n",
       "      <th>RainToday</th>\n",
       "    </tr>\n",
       "  </thead>\n",
       "  <tbody>\n",
       "    <tr>\n",
       "      <th>119504</th>\n",
       "      <td>13.4</td>\n",
       "      <td>20.2</td>\n",
       "      <td>5.2</td>\n",
       "      <td>1.4</td>\n",
       "      <td>5.9</td>\n",
       "      <td>WNW</td>\n",
       "      <td>50.0</td>\n",
       "      <td>NW</td>\n",
       "      <td>WNW</td>\n",
       "      <td>17.0</td>\n",
       "      <td>20.0</td>\n",
       "      <td>67.0</td>\n",
       "      <td>73.0</td>\n",
       "      <td>1008.5</td>\n",
       "      <td>1006.7</td>\n",
       "      <td>4.0</td>\n",
       "      <td>6.0</td>\n",
       "      <td>18.8</td>\n",
       "      <td>18.7</td>\n",
       "      <td>Yes</td>\n",
       "    </tr>\n",
       "    <tr>\n",
       "      <th>82592</th>\n",
       "      <td>21.8</td>\n",
       "      <td>27.7</td>\n",
       "      <td>0.2</td>\n",
       "      <td>3.2</td>\n",
       "      <td>0.2</td>\n",
       "      <td>SSE</td>\n",
       "      <td>41.0</td>\n",
       "      <td>SE</td>\n",
       "      <td>ESE</td>\n",
       "      <td>15.0</td>\n",
       "      <td>11.0</td>\n",
       "      <td>71.0</td>\n",
       "      <td>81.0</td>\n",
       "      <td>1016.9</td>\n",
       "      <td>1015.3</td>\n",
       "      <td>7.0</td>\n",
       "      <td>8.0</td>\n",
       "      <td>26.8</td>\n",
       "      <td>25.2</td>\n",
       "      <td>No</td>\n",
       "    </tr>\n",
       "    <tr>\n",
       "      <th>29509</th>\n",
       "      <td>18.4</td>\n",
       "      <td>22.8</td>\n",
       "      <td>14.4</td>\n",
       "      <td>7.0</td>\n",
       "      <td>3.3</td>\n",
       "      <td>NaN</td>\n",
       "      <td>NaN</td>\n",
       "      <td>S</td>\n",
       "      <td>S</td>\n",
       "      <td>24.0</td>\n",
       "      <td>30.0</td>\n",
       "      <td>87.0</td>\n",
       "      <td>70.0</td>\n",
       "      <td>1009.2</td>\n",
       "      <td>1011.7</td>\n",
       "      <td>8.0</td>\n",
       "      <td>7.0</td>\n",
       "      <td>20.9</td>\n",
       "      <td>21.0</td>\n",
       "      <td>Yes</td>\n",
       "    </tr>\n",
       "    <tr>\n",
       "      <th>31844</th>\n",
       "      <td>19.7</td>\n",
       "      <td>27.9</td>\n",
       "      <td>0.0</td>\n",
       "      <td>8.0</td>\n",
       "      <td>7.7</td>\n",
       "      <td>NW</td>\n",
       "      <td>61.0</td>\n",
       "      <td>WSW</td>\n",
       "      <td>ESE</td>\n",
       "      <td>28.0</td>\n",
       "      <td>20.0</td>\n",
       "      <td>44.0</td>\n",
       "      <td>30.0</td>\n",
       "      <td>1007.8</td>\n",
       "      <td>1008.3</td>\n",
       "      <td>7.0</td>\n",
       "      <td>1.0</td>\n",
       "      <td>24.1</td>\n",
       "      <td>25.2</td>\n",
       "      <td>No</td>\n",
       "    </tr>\n",
       "    <tr>\n",
       "      <th>58355</th>\n",
       "      <td>2.7</td>\n",
       "      <td>18.4</td>\n",
       "      <td>0.2</td>\n",
       "      <td>3.1</td>\n",
       "      <td>NaN</td>\n",
       "      <td>NW</td>\n",
       "      <td>20.0</td>\n",
       "      <td>SE</td>\n",
       "      <td>NNE</td>\n",
       "      <td>6.0</td>\n",
       "      <td>6.0</td>\n",
       "      <td>71.0</td>\n",
       "      <td>56.0</td>\n",
       "      <td>1027.8</td>\n",
       "      <td>1024.2</td>\n",
       "      <td>NaN</td>\n",
       "      <td>1.0</td>\n",
       "      <td>12.0</td>\n",
       "      <td>17.8</td>\n",
       "      <td>No</td>\n",
       "    </tr>\n",
       "  </tbody>\n",
       "</table>\n",
       "</div>"
      ],
      "text/plain": [
       "        MinTemp  MaxTemp  Rainfall  Evaporation  Sunshine WindGustDir  \\\n",
       "119504     13.4     20.2       5.2          1.4       5.9         WNW   \n",
       "82592      21.8     27.7       0.2          3.2       0.2         SSE   \n",
       "29509      18.4     22.8      14.4          7.0       3.3         NaN   \n",
       "31844      19.7     27.9       0.0          8.0       7.7          NW   \n",
       "58355       2.7     18.4       0.2          3.1       NaN          NW   \n",
       "\n",
       "        WindGustSpeed WindDir9am WindDir3pm  WindSpeed9am  WindSpeed3pm  \\\n",
       "119504           50.0         NW        WNW          17.0          20.0   \n",
       "82592            41.0         SE        ESE          15.0          11.0   \n",
       "29509             NaN          S          S          24.0          30.0   \n",
       "31844            61.0        WSW        ESE          28.0          20.0   \n",
       "58355            20.0         SE        NNE           6.0           6.0   \n",
       "\n",
       "        Humidity9am  Humidity3pm  Pressure9am  Pressure3pm  Cloud9am  \\\n",
       "119504         67.0         73.0       1008.5       1006.7       4.0   \n",
       "82592          71.0         81.0       1016.9       1015.3       7.0   \n",
       "29509          87.0         70.0       1009.2       1011.7       8.0   \n",
       "31844          44.0         30.0       1007.8       1008.3       7.0   \n",
       "58355          71.0         56.0       1027.8       1024.2       NaN   \n",
       "\n",
       "        Cloud3pm  Temp9am  Temp3pm RainToday  \n",
       "119504       6.0     18.8     18.7       Yes  \n",
       "82592        8.0     26.8     25.2        No  \n",
       "29509        7.0     20.9     21.0       Yes  \n",
       "31844        1.0     24.1     25.2        No  \n",
       "58355        1.0     12.0     17.8        No  "
      ]
     },
     "execution_count": 9,
     "metadata": {},
     "output_type": "execute_result"
    }
   ],
   "source": [
    "X_train.head()"
   ]
  },
  {
   "cell_type": "code",
   "execution_count": 10,
   "metadata": {
    "collapsed": false
   },
   "outputs": [
    {
     "name": "stdout",
     "output_type": "stream",
     "text": [
      "['MinTemp', 'MaxTemp', 'Rainfall', 'Evaporation', 'Sunshine', 'WindGustSpeed', 'WindSpeed9am', 'WindSpeed3pm', 'Humidity9am', 'Humidity3pm', 'Pressure9am', 'Pressure3pm', 'Cloud9am', 'Cloud3pm', 'Temp9am', 'Temp3pm']\n",
      "['WindGustDir', 'WindDir9am', 'WindDir3pm', 'RainToday']\n"
     ]
    }
   ],
   "source": [
    "num_attr = []\n",
    "cat_attr = []\n",
    "for i in X_train.columns:\n",
    "    if X_train[i].dtypes == 'float64':\n",
    "        num_attr.append(i)\n",
    "    else:\n",
    "        cat_attr.append(i)\n",
    "print(num_attr)\n",
    "print(cat_attr)"
   ]
  },
  {
   "cell_type": "markdown",
   "metadata": {},
   "source": [
    "## Pipeline"
   ]
  },
  {
   "cell_type": "code",
   "execution_count": 11,
   "metadata": {
    "collapsed": true
   },
   "outputs": [],
   "source": [
    "num_pipeline = Pipeline([('imputer',SimpleImputer(strategy='mean')),('normalizer',Normalizer())])\n",
    "cat_pipeline = Pipeline([('imputer',SimpleImputer(strategy='most_frequent')),('onehot',OneHotEncoder())])\n",
    "full_pipeline = ColumnTransformer([('num',num_pipeline,num_attr),('cat',cat_pipeline,cat_attr)])\n",
    "\n",
    "X_train_transformed = full_pipeline.fit_transform(X_train)\n",
    "X_test_tr = full_pipeline.transform(X_test)"
   ]
  },
  {
   "cell_type": "markdown",
   "metadata": {},
   "source": [
    "## Random Forest "
   ]
  },
  {
   "cell_type": "code",
   "execution_count": 12,
   "metadata": {
    "collapsed": false
   },
   "outputs": [
    {
     "name": "stdout",
     "output_type": "stream",
     "text": [
      "[ 0.76300985  0.7635701   0.77175372]\n",
      "[[28293  8173]\n",
      " [ 2722  7736]]\n"
     ]
    }
   ],
   "source": [
    "clf =  RandomForestClassifier(n_estimators=100,max_leaf_nodes=16, max_depth=5,class_weight='balanced', random_state=0)\n",
    "clf.fit(X_train_transformed, y_train) \n",
    "\n",
    "\n",
    "y_pred = clf.predict(X_test_tr)\n",
    "print(cross_val_score(clf, X_test_tr, y_test, cv=3, scoring=\"accuracy\"))\n",
    "print(confusion_matrix(y_test, y_pred))"
   ]
  },
  {
   "cell_type": "code",
   "execution_count": null,
   "metadata": {
    "collapsed": true
   },
   "outputs": [],
   "source": []
  },
  {
   "cell_type": "code",
   "execution_count": null,
   "metadata": {
    "collapsed": true
   },
   "outputs": [],
   "source": []
  },
  {
   "cell_type": "code",
   "execution_count": 90,
   "metadata": {
    "collapsed": false
   },
   "outputs": [
    {
     "name": "stdout",
     "output_type": "stream",
     "text": [
      "{'max_depth': 9, 'max_leaf_nodes': 19}\n",
      "0.832310320737\n"
     ]
    }
   ],
   "source": [
    "param_grid = {'max_depth':np.arange(5,10),'max_leaf_nodes':np.arange(10,20)}\n",
    "clf =  RandomForestClassifier(n_estimators=100,max_leaf_nodes=16, max_depth=5,class_weight='balanced', random_state=0)\n",
    "\n",
    "imp = GridSearchCV(clf,param_grid=param_grid,scoring='roc_auc',cv=5)\n",
    "imp.fit(X_train_transformed,y_train)\n",
    "print(imp.best_params_)\n",
    "print(imp.best_score_)"
   ]
  },
  {
   "cell_type": "code",
   "execution_count": 34,
   "metadata": {
    "collapsed": true
   },
   "outputs": [],
   "source": []
  },
  {
   "cell_type": "code",
   "execution_count": 91,
   "metadata": {
    "collapsed": false
   },
   "outputs": [
    {
     "name": "stdout",
     "output_type": "stream",
     "text": [
      "[ 0.75559344  0.74704315  0.76078849  0.76982097  0.76108269]\n",
      "[[27908  8558]\n",
      " [ 2817  7641]]\n"
     ]
    }
   ],
   "source": [
    "clf =  RandomForestClassifier(n_estimators=100,max_leaf_nodes=19, max_depth=9,class_weight='balanced', random_state=0)\n",
    "clf.fit(X_train_transformed, y_train) \n",
    "\n",
    "\n",
    "y_pred = clf.predict(X_test_tr)\n",
    "print(cross_val_score(clf, X_test_tr, y_test, cv=5, scoring=\"accuracy\"))\n",
    "print(confusion_matrix(y_test, y_pred))"
   ]
  },
  {
   "cell_type": "code",
   "execution_count": null,
   "metadata": {
    "collapsed": true
   },
   "outputs": [],
   "source": []
  },
  {
   "cell_type": "code",
   "execution_count": null,
   "metadata": {
    "collapsed": true
   },
   "outputs": [],
   "source": [
    "y_pred = ada_clf.predict(X_test_tr)\n",
    "confusion_matrix(y_test, y_pred)"
   ]
  },
  {
   "cell_type": "code",
   "execution_count": null,
   "metadata": {
    "collapsed": true
   },
   "outputs": [],
   "source": [
    "cross_val_score(ada_clf, X_test_tr, y_test, cv=3, scoring=\"accuracy\")"
   ]
  },
  {
   "cell_type": "code",
   "execution_count": null,
   "metadata": {
    "collapsed": true
   },
   "outputs": [],
   "source": [
    "array([[29557,  6909],\n",
    "       [ 2513,  7945]], dtype=int64)\n",
    "array([ 0.79075566,  0.79464229,  0.80046033])"
   ]
  },
  {
   "cell_type": "code",
   "execution_count": null,
   "metadata": {
    "collapsed": true
   },
   "outputs": [],
   "source": []
  },
  {
   "cell_type": "code",
   "execution_count": null,
   "metadata": {
    "collapsed": true
   },
   "outputs": [],
   "source": [
    "ada_clf = AdaBoostClassifier(RandomForestClassifier(n_estimators=100,max_leaf_nodes=19, max_depth=9,class_weight='balanced',\n",
    "                                                    random_state=0), n_estimators=80,algorithm=\"SAMME.R\", learning_rate=0.85)\n",
    "ada_clf.fit(X_train_transformed, y_train)\n",
    "\n",
    "y_pred = ada_clf.predict(X_test_tr)\n",
    "print(confusion_matrix(y_test, y_pred))\n",
    "print(cross_val_score(ada_clf, X_test_tr, y_test, cv=3, scoring=\"accuracy\"))"
   ]
  },
  {
   "cell_type": "code",
   "execution_count": null,
   "metadata": {
    "collapsed": true
   },
   "outputs": [],
   "source": []
  },
  {
   "cell_type": "code",
   "execution_count": 95,
   "metadata": {
    "collapsed": false
   },
   "outputs": [
    {
     "name": "stdout",
     "output_type": "stream",
     "text": [
      "              precision    recall  f1-score   support\n",
      "\n",
      "           0       0.92      0.80      0.86     36466\n",
      "           1       0.53      0.76      0.62     10458\n",
      "\n",
      "    accuracy                           0.79     46924\n",
      "   macro avg       0.72      0.78      0.74     46924\n",
      "weighted avg       0.83      0.79      0.81     46924\n",
      "\n"
     ]
    }
   ],
   "source": [
    "#[[29327  7139]\n",
    "# [ 2545  7913]]\n",
    "#[ 0.79081959  0.79413081  0.80288984]\n",
    "\n",
    "#[[28762  7704]\n",
    "# [ 2632  7826]]\n",
    "#[ 0.77234369  0.77725209  0.78313407]\n",
    "\n",
    "print(classification_report(y_test,y_pred))"
   ]
  },
  {
   "cell_type": "markdown",
   "metadata": {},
   "source": [
    "## Decision Tree"
   ]
  },
  {
   "cell_type": "code",
   "execution_count": 17,
   "metadata": {
    "collapsed": false
   },
   "outputs": [
    {
     "name": "stdout",
     "output_type": "stream",
     "text": [
      "[[27820  8646]\n",
      " [ 2586  7872]]\n",
      "[ 0.74747475  0.77514225  0.77475865]\n",
      "{'max_depth': 7, 'max_leaf_nodes': 19}\n",
      "0.835610007759\n"
     ]
    }
   ],
   "source": [
    "clf = DecisionTreeClassifier(random_state = 11, class_weight = \"balanced\",max_depth = 5)\n",
    "clf.fit(X_train_transformed,y_train)\n",
    "\n",
    "y_pred = clf.predict(X_test_tr)\n",
    "print(confusion_matrix(y_test, y_pred))\n",
    "print(cross_val_score(clf, X_test_tr, y_test, cv=3, scoring=\"accuracy\"))\n",
    "\n",
    "param_grid = {'max_depth':np.arange(5,10),'max_leaf_nodes':np.arange(15,20)}\n",
    "\n",
    "imp = GridSearchCV(clf,param_grid=param_grid,scoring='roc_auc',cv=3)\n",
    "imp.fit(X_train_transformed,y_train)\n",
    "print(imp.best_params_)\n",
    "print(imp.best_score_)"
   ]
  },
  {
   "cell_type": "code",
   "execution_count": null,
   "metadata": {
    "collapsed": true
   },
   "outputs": [],
   "source": []
  },
  {
   "cell_type": "code",
   "execution_count": null,
   "metadata": {
    "collapsed": true
   },
   "outputs": [],
   "source": []
  },
  {
   "cell_type": "markdown",
   "metadata": {},
   "source": [
    "## AdaBoost"
   ]
  },
  {
   "cell_type": "code",
   "execution_count": 12,
   "metadata": {
    "collapsed": false
   },
   "outputs": [
    {
     "name": "stdout",
     "output_type": "stream",
     "text": [
      "[[29687  6779]\n",
      " [ 2461  7997]]\n",
      "[ 0.79280143  0.79719967  0.80423247]\n"
     ]
    }
   ],
   "source": [
    "ada_clf = AdaBoostClassifier(DecisionTreeClassifier(max_depth=7,max_leaf_nodes=19,class_weight = 'balanced'), n_estimators=100,algorithm=\"SAMME.R\", learning_rate=0.5)\n",
    "ada_clf.fit(X_train_transformed, y_train)\n",
    "\n",
    "y_pred = ada_clf.predict(X_test_tr)\n",
    "print(confusion_matrix(y_test, y_pred))\n",
    "print(cross_val_score(ada_clf, X_test_tr, y_test, cv=3, scoring=\"accuracy\"))"
   ]
  },
  {
   "cell_type": "code",
   "execution_count": null,
   "metadata": {
    "collapsed": true
   },
   "outputs": [],
   "source": [
    "[[29686  6780]\n",
    " [ 2463  7995]]\n",
    "[ 0.79267357  0.79745541  0.8042964 ]"
   ]
  },
  {
   "cell_type": "code",
   "execution_count": 13,
   "metadata": {
    "collapsed": false
   },
   "outputs": [
    {
     "data": {
      "text/plain": [
       "['adaboost1.joblib']"
      ]
     },
     "execution_count": 13,
     "metadata": {},
     "output_type": "execute_result"
    }
   ],
   "source": [
    "from joblib import dump, load\n",
    "dump(ada_clf, 'adaboost1.joblib') "
   ]
  },
  {
   "cell_type": "code",
   "execution_count": 14,
   "metadata": {
    "collapsed": false
   },
   "outputs": [
    {
     "name": "stdout",
     "output_type": "stream",
     "text": [
      "              precision    recall  f1-score   support\n",
      "\n",
      "           0       0.92      0.81      0.87     36466\n",
      "           1       0.54      0.76      0.63     10458\n",
      "\n",
      "    accuracy                           0.80     46924\n",
      "   macro avg       0.73      0.79      0.75     46924\n",
      "weighted avg       0.84      0.80      0.81     46924\n",
      "\n"
     ]
    }
   ],
   "source": [
    "print(classification_report(y_test,y_pred))"
   ]
  },
  {
   "cell_type": "code",
   "execution_count": null,
   "metadata": {
    "collapsed": true
   },
   "outputs": [],
   "source": []
  },
  {
   "cell_type": "markdown",
   "metadata": {
    "collapsed": true
   },
   "source": [
    "## ANN"
   ]
  },
  {
   "cell_type": "code",
   "execution_count": 102,
   "metadata": {
    "collapsed": true
   },
   "outputs": [],
   "source": [
    "\n",
    "\n",
    "n_cols = X_train_transformed.shape[1]\n",
    "\n",
    "model = Sequential()\n",
    "model.add(Dense(100, activation='relu', input_shape=(n_cols,)))\n",
    "model.add(Dense(100, activation='relu'))\n",
    "model.add(Dense(100, activation='relu'))\n",
    "model.add(Dense(2, activation = 'sigmoid'))\n",
    "model.compile(optimizer='adam',loss='categorical_crossentropy',metrics=['accuracy'])"
   ]
  },
  {
   "cell_type": "code",
   "execution_count": 18,
   "metadata": {
    "collapsed": true
   },
   "outputs": [],
   "source": [
    "from keras.utils import to_categorical\n",
    "target = to_categorical(y_train)"
   ]
  },
  {
   "cell_type": "code",
   "execution_count": 94,
   "metadata": {
    "collapsed": true
   },
   "outputs": [],
   "source": [
    "from sklearn.utils import class_weight\n",
    "class_weight = class_weight.compute_class_weight('balanced'\n",
    "                                               ,np.unique(y_train)\n",
    "                                               ,y_train)"
   ]
  },
  {
   "cell_type": "code",
   "execution_count": 103,
   "metadata": {
    "collapsed": false
   },
   "outputs": [
    {
     "name": "stdout",
     "output_type": "stream",
     "text": [
      "Epoch 1/100\n",
      "95269/95269 [==============================] - 15s 153us/step - loss: 0.4461 - acc: 0.7991\n",
      "Epoch 2/100\n",
      "95269/95269 [==============================] - 14s 142us/step - loss: 0.3849 - acc: 0.8316\n",
      "Epoch 3/100\n",
      "95269/95269 [==============================] - 14s 148us/step - loss: 0.3779 - acc: 0.8357\n",
      "Epoch 4/100\n",
      "95269/95269 [==============================] - 14s 143us/step - loss: 0.3742 - acc: 0.8363\n",
      "Epoch 5/100\n",
      "95269/95269 [==============================] - 13s 137us/step - loss: 0.3705 - acc: 0.8390\n",
      "Epoch 6/100\n",
      "95269/95269 [==============================] - 13s 135us/step - loss: 0.3689 - acc: 0.8392\n",
      "Epoch 7/100\n",
      "95269/95269 [==============================] - 13s 139us/step - loss: 0.3674 - acc: 0.8402\n",
      "Epoch 8/100\n",
      "95269/95269 [==============================] - 13s 137us/step - loss: 0.3655 - acc: 0.8405\n",
      "Epoch 9/100\n",
      "95269/95269 [==============================] - 13s 139us/step - loss: 0.3643 - acc: 0.8421\n",
      "Epoch 10/100\n",
      "95269/95269 [==============================] - 13s 140us/step - loss: 0.3629 - acc: 0.8426\n",
      "Epoch 11/100\n",
      "95269/95269 [==============================] - 13s 137us/step - loss: 0.3616 - acc: 0.8430\n",
      "Epoch 12/100\n",
      "95269/95269 [==============================] - 13s 138us/step - loss: 0.3600 - acc: 0.8432\n",
      "Epoch 13/100\n",
      "95269/95269 [==============================] - 13s 139us/step - loss: 0.3586 - acc: 0.8437\n",
      "Epoch 14/100\n",
      "95269/95269 [==============================] - 13s 139us/step - loss: 0.3581 - acc: 0.8457\n",
      "Epoch 15/100\n",
      "95269/95269 [==============================] - 13s 139us/step - loss: 0.3574 - acc: 0.8435\n",
      "Epoch 16/100\n",
      "95269/95269 [==============================] - 13s 139us/step - loss: 0.3563 - acc: 0.8448\n",
      "Epoch 17/100\n",
      "95269/95269 [==============================] - 13s 139us/step - loss: 0.3553 - acc: 0.8458\n",
      "Epoch 18/100\n",
      "95269/95269 [==============================] - 13s 138us/step - loss: 0.3545 - acc: 0.8456\n",
      "Epoch 19/100\n",
      "95269/95269 [==============================] - 13s 139us/step - loss: 0.3536 - acc: 0.8455\n",
      "Epoch 20/100\n",
      "95269/95269 [==============================] - 14s 147us/step - loss: 0.3528 - acc: 0.8475\n",
      "Epoch 21/100\n",
      "95269/95269 [==============================] - 14s 149us/step - loss: 0.3518 - acc: 0.8471\n",
      "Epoch 22/100\n",
      "95269/95269 [==============================] - 14s 146us/step - loss: 0.3509 - acc: 0.8471\n",
      "Epoch 23/100\n",
      "95269/95269 [==============================] - 14s 145us/step - loss: 0.3508 - acc: 0.8469\n",
      "Epoch 24/100\n",
      "95269/95269 [==============================] - 14s 145us/step - loss: 0.3492 - acc: 0.8471\n",
      "Epoch 25/100\n",
      "95269/95269 [==============================] - 14s 147us/step - loss: 0.3488 - acc: 0.8482\n",
      "Epoch 26/100\n",
      "95269/95269 [==============================] - 14s 147us/step - loss: 0.3480 - acc: 0.8477\n",
      "Epoch 27/100\n",
      "95269/95269 [==============================] - 15s 152us/step - loss: 0.3474 - acc: 0.8473\n",
      "Epoch 28/100\n",
      "95269/95269 [==============================] - 14s 147us/step - loss: 0.3463 - acc: 0.8485\n",
      "Epoch 29/100\n",
      "95269/95269 [==============================] - 14s 148us/step - loss: 0.3455 - acc: 0.8490\n",
      "Epoch 30/100\n",
      "95269/95269 [==============================] - 14s 148us/step - loss: 0.3448 - acc: 0.8492\n",
      "Epoch 31/100\n",
      "95269/95269 [==============================] - 14s 150us/step - loss: 0.3442 - acc: 0.8500\n",
      "Epoch 32/100\n",
      "95269/95269 [==============================] - 15s 153us/step - loss: 0.3435 - acc: 0.8497\n",
      "Epoch 33/100\n",
      "95269/95269 [==============================] - ETA: 0s - loss: 0.3428 - acc: 0.849 - 15s 155us/step - loss: 0.3427 - acc: 0.8499\n",
      "Epoch 34/100\n",
      "95269/95269 [==============================] - 16s 169us/step - loss: 0.3413 - acc: 0.8504\n",
      "Epoch 35/100\n",
      "95269/95269 [==============================] - 20s 208us/step - loss: 0.3406 - acc: 0.8506\n",
      "Epoch 36/100\n",
      "95269/95269 [==============================] - 19s 202us/step - loss: 0.3400 - acc: 0.8508\n",
      "Epoch 37/100\n",
      "95269/95269 [==============================] - 18s 188us/step - loss: 0.3401 - acc: 0.8513\n",
      "Epoch 38/100\n",
      "95269/95269 [==============================] - 17s 180us/step - loss: 0.3388 - acc: 0.8519\n",
      "Epoch 39/100\n",
      "95269/95269 [==============================] - 17s 182us/step - loss: 0.3380 - acc: 0.8525\n",
      "Epoch 40/100\n",
      "95269/95269 [==============================] - 18s 192us/step - loss: 0.3376 - acc: 0.8522\n",
      "Epoch 41/100\n",
      "95269/95269 [==============================] - 18s 188us/step - loss: 0.3372 - acc: 0.8523\n",
      "Epoch 42/100\n",
      "95269/95269 [==============================] - 17s 183us/step - loss: 0.3361 - acc: 0.8532\n",
      "Epoch 43/100\n",
      "95269/95269 [==============================] - 17s 184us/step - loss: 0.3355 - acc: 0.85370s - loss: 0.3352\n",
      "Epoch 44/100\n",
      "95269/95269 [==============================] - 17s 183us/step - loss: 0.3347 - acc: 0.85310s - loss: 0.3344 - acc:\n",
      "Epoch 45/100\n",
      "95269/95269 [==============================] - 17s 179us/step - loss: 0.3343 - acc: 0.8533\n",
      "Epoch 46/100\n",
      "95269/95269 [==============================] - 18s 184us/step - loss: 0.3335 - acc: 0.8552\n",
      "Epoch 47/100\n",
      "95269/95269 [==============================] - 17s 183us/step - loss: 0.3336 - acc: 0.8546\n",
      "Epoch 48/100\n",
      "95269/95269 [==============================] - 17s 181us/step - loss: 0.3328 - acc: 0.8545\n",
      "Epoch 49/100\n",
      "95269/95269 [==============================] - 17s 177us/step - loss: 0.3317 - acc: 0.8554\n",
      "Epoch 50/100\n",
      "95269/95269 [==============================] - 16s 171us/step - loss: 0.3319 - acc: 0.8549\n",
      "Epoch 51/100\n",
      "95269/95269 [==============================] - 16s 167us/step - loss: 0.3302 - acc: 0.8559\n",
      "Epoch 52/100\n",
      "95269/95269 [==============================] - 16s 171us/step - loss: 0.3302 - acc: 0.85600s - loss: 0.\n",
      "Epoch 53/100\n",
      "95269/95269 [==============================] - 14s 150us/step - loss: 0.3293 - acc: 0.8560\n",
      "Epoch 54/100\n",
      "95269/95269 [==============================] - 14s 149us/step - loss: 0.3287 - acc: 0.8565\n",
      "Epoch 55/100\n",
      "95269/95269 [==============================] - 14s 150us/step - loss: 0.3285 - acc: 0.8567\n",
      "Epoch 56/100\n",
      "95269/95269 [==============================] - 14s 152us/step - loss: 0.3273 - acc: 0.8573\n",
      "Epoch 57/100\n",
      "95269/95269 [==============================] - 14s 151us/step - loss: 0.3269 - acc: 0.8570\n",
      "Epoch 58/100\n",
      "95269/95269 [==============================] - 15s 157us/step - loss: 0.3261 - acc: 0.8581\n",
      "Epoch 59/100\n",
      "95269/95269 [==============================] - 14s 150us/step - loss: 0.3264 - acc: 0.8578\n",
      "Epoch 60/100\n",
      "95269/95269 [==============================] - 14s 146us/step - loss: 0.3250 - acc: 0.8580\n",
      "Epoch 61/100\n",
      "95269/95269 [==============================] - 15s 154us/step - loss: 0.3248 - acc: 0.8584\n",
      "Epoch 62/100\n",
      "95269/95269 [==============================] - 16s 166us/step - loss: 0.3238 - acc: 0.8588\n",
      "Epoch 63/100\n",
      "95269/95269 [==============================] - 16s 164us/step - loss: 0.3234 - acc: 0.8584\n",
      "Epoch 64/100\n",
      "95269/95269 [==============================] - 16s 165us/step - loss: 0.3228 - acc: 0.8590\n",
      "Epoch 65/100\n",
      "95269/95269 [==============================] - 15s 162us/step - loss: 0.3221 - acc: 0.8594\n",
      "Epoch 66/100\n",
      "95269/95269 [==============================] - 16s 163us/step - loss: 0.3221 - acc: 0.8597\n",
      "Epoch 67/100\n",
      "95269/95269 [==============================] - 16s 168us/step - loss: 0.3213 - acc: 0.8601\n",
      "Epoch 68/100\n",
      "95269/95269 [==============================] - 15s 162us/step - loss: 0.3204 - acc: 0.8610\n",
      "Epoch 69/100\n",
      "95269/95269 [==============================] - 15s 162us/step - loss: 0.3203 - acc: 0.8605\n",
      "Epoch 70/100\n",
      "95269/95269 [==============================] - 15s 162us/step - loss: 0.3191 - acc: 0.8614\n",
      "Epoch 71/100\n",
      "95269/95269 [==============================] - 16s 166us/step - loss: 0.3190 - acc: 0.8613\n",
      "Epoch 72/100\n",
      "95269/95269 [==============================] - ETA: 0s - loss: 0.3191 - acc: 0.861 - 15s 158us/step - loss: 0.3191 - acc: 0.8612\n",
      "Epoch 73/100\n",
      "95269/95269 [==============================] - 15s 159us/step - loss: 0.3182 - acc: 0.8618\n",
      "Epoch 74/100\n",
      "95269/95269 [==============================] - 15s 159us/step - loss: 0.3175 - acc: 0.8621\n",
      "Epoch 75/100\n",
      "95269/95269 [==============================] - 15s 160us/step - loss: 0.3158 - acc: 0.8629\n",
      "Epoch 76/100\n",
      "95269/95269 [==============================] - 15s 161us/step - loss: 0.3171 - acc: 0.8622\n",
      "Epoch 77/100\n",
      "95269/95269 [==============================] - 15s 160us/step - loss: 0.3160 - acc: 0.8625\n",
      "Epoch 78/100\n",
      "95269/95269 [==============================] - 15s 154us/step - loss: 0.3159 - acc: 0.8626\n",
      "Epoch 79/100\n",
      "95269/95269 [==============================] - 14s 147us/step - loss: 0.3145 - acc: 0.8631\n",
      "Epoch 80/100\n",
      "95269/95269 [==============================] - 14s 145us/step - loss: 0.3144 - acc: 0.8636\n",
      "Epoch 81/100\n",
      "95269/95269 [==============================] - 13s 141us/step - loss: 0.3136 - acc: 0.8637\n",
      "Epoch 82/100\n",
      "95269/95269 [==============================] - 14s 142us/step - loss: 0.3132 - acc: 0.8638\n",
      "Epoch 83/100\n",
      "95269/95269 [==============================] - 14s 145us/step - loss: 0.3125 - acc: 0.8637\n",
      "Epoch 84/100\n",
      "95269/95269 [==============================] - 14s 147us/step - loss: 0.3119 - acc: 0.8644\n",
      "Epoch 85/100\n",
      "95269/95269 [==============================] - 14s 145us/step - loss: 0.3125 - acc: 0.8643\n",
      "Epoch 86/100\n",
      "95269/95269 [==============================] - 14s 145us/step - loss: 0.3116 - acc: 0.8640\n",
      "Epoch 87/100\n",
      "95269/95269 [==============================] - 14s 149us/step - loss: 0.3110 - acc: 0.8654\n",
      "Epoch 88/100\n",
      "95269/95269 [==============================] - 14s 148us/step - loss: 0.3099 - acc: 0.8661\n",
      "Epoch 89/100\n",
      "95269/95269 [==============================] - 14s 148us/step - loss: 0.3104 - acc: 0.8652\n",
      "Epoch 90/100\n",
      "95269/95269 [==============================] - 14s 147us/step - loss: 0.3101 - acc: 0.8653\n",
      "Epoch 91/100\n",
      "95269/95269 [==============================] - 14s 149us/step - loss: 0.3091 - acc: 0.8664\n",
      "Epoch 92/100\n",
      "95269/95269 [==============================] - 14s 147us/step - loss: 0.3088 - acc: 0.8657\n",
      "Epoch 93/100\n",
      "95269/95269 [==============================] - 14s 150us/step - loss: 0.3074 - acc: 0.8671\n",
      "Epoch 94/100\n",
      "95269/95269 [==============================] - 14s 149us/step - loss: 0.3079 - acc: 0.8662\n",
      "Epoch 95/100\n",
      "95269/95269 [==============================] - 14s 149us/step - loss: 0.3066 - acc: 0.8674\n",
      "Epoch 96/100\n",
      "95269/95269 [==============================] - 14s 151us/step - loss: 0.3077 - acc: 0.8664\n",
      "Epoch 97/100\n",
      "95269/95269 [==============================] - 14s 150us/step - loss: 0.3068 - acc: 0.8671\n",
      "Epoch 98/100\n",
      "95269/95269 [==============================] - 17s 176us/step - loss: 0.3054 - acc: 0.8678\n",
      "Epoch 99/100\n",
      "95269/95269 [==============================] - 16s 171us/step - loss: 0.3055 - acc: 0.8676\n",
      "Epoch 100/100\n",
      "95269/95269 [==============================] - 21s 224us/step - loss: 0.3056 - acc: 0.86720s - loss: 0.3045 - a\n"
     ]
    },
    {
     "data": {
      "text/plain": [
       "<keras.callbacks.History at 0x2aa39a941d0>"
      ]
     },
     "execution_count": 103,
     "metadata": {},
     "output_type": "execute_result"
    }
   ],
   "source": [
    "model.fit(X_train_transformed,target,epochs=100, batch_size=32,class_weight = class_weight)"
   ]
  },
  {
   "cell_type": "code",
   "execution_count": 115,
   "metadata": {
    "collapsed": true
   },
   "outputs": [],
   "source": [
    "model.save('rainTomorrow_2.h5')"
   ]
  },
  {
   "cell_type": "code",
   "execution_count": 116,
   "metadata": {
    "collapsed": true
   },
   "outputs": [],
   "source": [
    "prediction = model.predict(X_test_tr)"
   ]
  },
  {
   "cell_type": "code",
   "execution_count": 117,
   "metadata": {
    "collapsed": true
   },
   "outputs": [],
   "source": [
    "for i in range(prediction.shape[0]):\n",
    "    for j in range(prediction.shape[1]):\n",
    "        if prediction[i][j] > 0.5:\n",
    "            prediction[i][j] = 1\n",
    "        else:\n",
    "            prediction[i][j] = 0\n",
    "\n",
    "prediction_tr = []\n",
    "for i in range(prediction.shape[0]):\n",
    "    if prediction[i,0] == 1:\n",
    "        prediction_tr.append(0)\n",
    "    else:\n",
    "        prediction_tr.append(1)\n",
    "        \n",
    "prediction_tr = pd.Series(np.array(prediction_tr))"
   ]
  },
  {
   "cell_type": "code",
   "execution_count": 119,
   "metadata": {
    "collapsed": false
   },
   "outputs": [
    {
     "name": "stdout",
     "output_type": "stream",
     "text": [
      "[[32426  4040]\n",
      " [ 4872  5586]]\n",
      "accuracy: 0.81007586736\n",
      "              precision    recall  f1-score   support\n",
      "\n",
      "           0       0.87      0.89      0.88     36466\n",
      "           1       0.58      0.53      0.56     10458\n",
      "\n",
      "    accuracy                           0.81     46924\n",
      "   macro avg       0.72      0.71      0.72     46924\n",
      "weighted avg       0.80      0.81      0.81     46924\n",
      "\n"
     ]
    }
   ],
   "source": [
    "cfm = confusion_matrix(y_test, prediction_tr)\n",
    "print(cfm)\n",
    "print(\"accuracy:\",(cfm[0,0]+cfm[1,1])/(cfm.sum()))\n",
    "print(classification_report(y_test,prediction_tr))"
   ]
  },
  {
   "cell_type": "code",
   "execution_count": 51,
   "metadata": {
    "collapsed": true
   },
   "outputs": [],
   "source": [
    "model.save('rainModel.h5')"
   ]
  },
  {
   "cell_type": "code",
   "execution_count": null,
   "metadata": {
    "collapsed": true
   },
   "outputs": [],
   "source": []
  },
  {
   "cell_type": "code",
   "execution_count": 110,
   "metadata": {
    "collapsed": false
   },
   "outputs": [
    {
     "name": "stdout",
     "output_type": "stream",
     "text": [
      "[[33944  2522]\n",
      " [ 5725  4733]]\n",
      "accuracy: 0.824247719717\n"
     ]
    }
   ],
   "source": [
    "from keras.models import load_model\n",
    "my_model = load_model('rainModel.h5')\n",
    "prediction = my_model.predict(X_test_tr)\n",
    "for i in range(prediction.shape[0]):\n",
    "    for j in range(prediction.shape[1]):\n",
    "        if prediction[i][j] > 0.5:\n",
    "            prediction[i][j] = 1\n",
    "        else:\n",
    "            prediction[i][j] = 0\n",
    "\n",
    "prediction_tr = []\n",
    "for i in range(prediction.shape[0]):\n",
    "    if prediction[i,0] == 1:\n",
    "        prediction_tr.append(0)\n",
    "    else:\n",
    "        prediction_tr.append(1)\n",
    "        \n",
    "prediction_tr = pd.Series(np.array(prediction_tr))\n",
    "cfm = confusion_matrix(y_test, prediction_tr)\n",
    "print(cfm)\n",
    "print(\"accuracy:\",(cfm[0,0]+cfm[1,1])/(cfm.sum()))"
   ]
  },
  {
   "cell_type": "code",
   "execution_count": null,
   "metadata": {
    "collapsed": true
   },
   "outputs": [],
   "source": []
  },
  {
   "cell_type": "code",
   "execution_count": null,
   "metadata": {
    "collapsed": true
   },
   "outputs": [],
   "source": []
  },
  {
   "cell_type": "code",
   "execution_count": 103,
   "metadata": {
    "collapsed": false
   },
   "outputs": [
    {
     "name": "stdout",
     "output_type": "stream",
     "text": [
      "Train on 76215 samples, validate on 19054 samples\n",
      "Epoch 1/20\n",
      "76215/76215 [==============================] - 31s 403us/step - loss: 0.4688 - acc: 0.7826 - val_loss: 0.4260 - val_acc: 0.8136\n",
      "Epoch 2/20\n",
      "76215/76215 [==============================] - 26s 343us/step - loss: 0.3988 - acc: 0.8244 - val_loss: 0.3831 - val_acc: 0.8355\n",
      "Epoch 3/20\n",
      "76215/76215 [==============================] - 26s 337us/step - loss: 0.3801 - acc: 0.8354 - val_loss: 0.3855 - val_acc: 0.8316\n",
      "Epoch 4/20\n",
      "76215/76215 [==============================] - 25s 332us/step - loss: 0.3743 - acc: 0.8377 - val_loss: 0.3809 - val_acc: 0.8330\n",
      "Epoch 5/20\n",
      "76215/76215 [==============================] - 27s 350us/step - loss: 0.3697 - acc: 0.8391 - val_loss: 0.3742 - val_acc: 0.8365\n",
      "Epoch 6/20\n",
      "76215/76215 [==============================] - 26s 344us/step - loss: 0.3662 - acc: 0.8410 - val_loss: 0.3761 - val_acc: 0.8343\n",
      "Epoch 7/20\n",
      "76215/76215 [==============================] - 26s 343us/step - loss: 0.3654 - acc: 0.8431 - val_loss: 0.3876 - val_acc: 0.8353\n",
      "Epoch 8/20\n",
      "76215/76215 [==============================] - 23s 307us/step - loss: 0.3633 - acc: 0.8425 - val_loss: 0.3745 - val_acc: 0.8385\n"
     ]
    }
   ],
   "source": [
    "from keras.layers import Dense\n",
    "from keras.models import Sequential\n",
    "\n",
    "n_cols = X_train_transformed.shape[1]\n",
    "\n",
    "model = Sequential()\n",
    "model.add(Dense(250, activation='relu', input_shape=(n_cols,)))\n",
    "model.add(Dense(250, activation='relu'))\n",
    "model.add(Dense(250, activation='relu'))\n",
    "model.add(Dense(250, activation='relu'))\n",
    "\n",
    "model.add(Dense(2, activation = 'sigmoid'))\n",
    "model.compile(optimizer='adam',loss='categorical_crossentropy',metrics=['accuracy'])\n",
    "from keras.utils import to_categorical\n",
    "target = to_categorical(y_train)\n",
    "from sklearn.utils import class_weight\n",
    "class_weight = class_weight.compute_class_weight('balanced'\n",
    "                                               ,np.unique(y_train)\n",
    "                                               ,y_train)\n",
    "history = model.fit(X_train_transformed,target,epochs=20,validation_split=0.2, batch_size=120,\n",
    "                   callbacks = [EarlyStopping(patience=3)])"
   ]
  },
  {
   "cell_type": "code",
   "execution_count": 104,
   "metadata": {
    "collapsed": true
   },
   "outputs": [],
   "source": [
    "prediction = model.predict(X_test_tr)"
   ]
  },
  {
   "cell_type": "code",
   "execution_count": 105,
   "metadata": {
    "collapsed": false
   },
   "outputs": [
    {
     "name": "stdout",
     "output_type": "stream",
     "text": [
      "[[34371  2095]\n",
      " [ 5530  4928]]\n",
      "accuracy: 0.837503196658\n",
      "              precision    recall  f1-score   support\n",
      "\n",
      "           0       0.86      0.94      0.90     36466\n",
      "           1       0.70      0.47      0.56     10458\n",
      "\n",
      "    accuracy                           0.84     46924\n",
      "   macro avg       0.78      0.71      0.73     46924\n",
      "weighted avg       0.83      0.84      0.83     46924\n",
      "\n"
     ]
    }
   ],
   "source": [
    "prediction[prediction>=0.5]=1\n",
    "prediction[prediction<0.5]=0\n",
    "\n",
    "prediction_tr = []\n",
    "for i in range(prediction.shape[0]):\n",
    "    if prediction[i,0] == 1:\n",
    "        prediction_tr.append(0)\n",
    "    else:\n",
    "        prediction_tr.append(1)\n",
    "\n",
    "prediction_tr = pd.Series(np.array(prediction_tr))\n",
    "\n",
    "cfm = confusion_matrix(y_test, prediction_tr)\n",
    "print(cfm)\n",
    "print(\"accuracy:\",(cfm[0,0]+cfm[1,1])/(cfm.sum()))\n",
    "print(classification_report(y_test,prediction_tr))"
   ]
  },
  {
   "cell_type": "code",
   "execution_count": 106,
   "metadata": {
    "collapsed": false
   },
   "outputs": [
    {
     "data": {
      "image/png": "[encoded data removed]",
      "text/plain": [
       "<Figure size 432x288 with 1 Axes>"
      ]
     },
     "metadata": {
      "needs_background": "light"
     },
     "output_type": "display_data"
    }
   ],
   "source": [
    "fig1 = plt.figure()\n",
    "plt.plot(history.history['loss'],'r',linewidth=3.0)\n",
    "plt.plot(history.history['val_loss'],'b',linewidth=3.0)\n",
    "plt.legend(['Training loss', 'Validation Loss'],fontsize=18)\n",
    "plt.xlabel('Epochs ',fontsize=16)\n",
    "plt.ylabel('Loss',fontsize=16)\n",
    "plt.title('Loss Curves',fontsize=16)\n",
    "fig1.savefig('loss.png')\n",
    "plt.show()"
   ]
  },
  {
   "cell_type": "code",
   "execution_count": 107,
   "metadata": {
    "collapsed": false
   },
   "outputs": [
    {
     "data": {
      "image/png": "[encoded data removed]",
      "text/plain": [
       "<Figure size 432x288 with 1 Axes>"
      ]
     },
     "metadata": {
      "needs_background": "light"
     },
     "output_type": "display_data"
    }
   ],
   "source": [
    "fig2=plt.figure()\n",
    "plt.plot(history.history['acc'],'r',linewidth=3.0)\n",
    "plt.plot(history.history['val_acc'],'b',linewidth=3.0)\n",
    "plt.legend(['Training Accuracy', 'Validation Accuracy'],fontsize=18)\n",
    "plt.xlabel('Epochs ',fontsize=16)\n",
    "plt.ylabel('Accuracy',fontsize=16)\n",
    "plt.title('Accuracy Curves',fontsize=16)\n",
    "fig2.savefig('accuracy.png')\n",
    "plt.show()"
   ]
  },
  {
   "cell_type": "code",
   "execution_count": null,
   "metadata": {
    "collapsed": true
   },
   "outputs": [],
   "source": [
    "[[34371  2095]\n",
    " [ 5530  4928]]\n",
    "accuracy: 0.837503196658\n",
    "              precision    recall  f1-score   support\n",
    "\n",
    "           0       0.86      0.94      0.90     36466\n",
    "           1       0.70      0.47      0.56     10458\n",
    "\n",
    "    accuracy                           0.84     46924\n",
    "   macro avg       0.78      0.71      0.73     46924\n",
    "weighted avg       0.83      0.84      0.83     46924\n",
    "\n",
    "[[34455  2011]\n",
    " [ 5698  4760]]\n",
    "accuracy: 0.83571306794\n",
    "              precision    recall  f1-score   support\n",
    "\n",
    "           0       0.86      0.94      0.90     36466\n",
    "           1       0.70      0.46      0.55     10458\n",
    "\n",
    "    accuracy                           0.84     46924\n",
    "   macro avg       0.78      0.70      0.73     46924\n",
    "weighted avg       0.82      0.84      0.82     46924\n",
    "\n",
    "\n",
    "[[34045  2421]\n",
    " [ 5355  5103]]\n",
    "accuracy: 0.834285227176\n",
    "              precision    recall  f1-score   support\n",
    "\n",
    "           0       0.86      0.93      0.90     36466\n",
    "           1       0.68      0.49      0.57     10458\n",
    "\n",
    "    accuracy                           0.83     46924\n",
    "   macro avg       0.77      0.71      0.73     46924\n",
    "weighted avg       0.82      0.83      0.82     46924\n",
    "\n",
    "\n",
    "[[34347  2119]\n",
    " [ 5595  4863]]\n",
    "accuracy: 0.835606512659\n",
    "              precision    recall  f1-score   support\n",
    "\n",
    "           0       0.86      0.94      0.90     36466\n",
    "           1       0.70      0.47      0.56     10458\n",
    "\n",
    "    accuracy                           0.84     46924\n",
    "   macro avg       0.78      0.70      0.73     46924\n",
    "weighted avg       0.82      0.84      0.82     46924"
   ]
  },
  {
   "cell_type": "code",
   "execution_count": null,
   "metadata": {
    "collapsed": true
   },
   "outputs": [],
   "source": [
    "[[35128  1338]\n",
    " [ 6417  4041]]\n",
    "accuracy: 0.834732759356"
   ]
  },
  {
   "cell_type": "code",
   "execution_count": 33,
   "metadata": {
    "collapsed": true
   },
   "outputs": [],
   "source": [
    "model.save('RainTomorrow_new.h5')"
   ]
  },
  {
   "cell_type": "code",
   "execution_count": null,
   "metadata": {
    "collapsed": true
   },
   "outputs": [],
   "source": [
    "[[33322  3144]\n",
    " [ 4697  5761]]\n",
    "accuracy: 0.832900008524\n",
    "              precision    recall  f1-score   support\n",
    "\n",
    "           0       0.88      0.91      0.89     36466\n",
    "           1       0.65      0.55      0.60     10458\n",
    "\n",
    "    accuracy                           0.83     46924\n",
    "   macro avg       0.76      0.73      0.74     46924\n",
    "weighted avg       0.83      0.83      0.83     46924"
   ]
  },
  {
   "cell_type": "code",
   "execution_count": null,
   "metadata": {
    "collapsed": true
   },
   "outputs": [],
   "source": []
  },
  {
   "cell_type": "code",
   "execution_count": 14,
   "metadata": {
    "collapsed": true
   },
   "outputs": [],
   "source": [
    "import keras\n",
    "n_cols = X_train_transformed.shape[1]"
   ]
  },
  {
   "cell_type": "code",
   "execution_count": 25,
   "metadata": {
    "collapsed": false
   },
   "outputs": [
    {
     "name": "stdout",
     "output_type": "stream",
     "text": [
      "Train on 71451 samples, validate on 23818 samples\n",
      "Epoch 1/20\n",
      "71451/71451 [==============================] - 17s 238us/step - loss: 0.5945 - val_loss: 0.5263\n",
      "Epoch 2/20\n",
      "71451/71451 [==============================] - 15s 207us/step - loss: 0.5208 - val_loss: 0.5125\n",
      "Epoch 3/20\n",
      "71451/71451 [==============================] - 15s 208us/step - loss: 0.5110 - val_loss: 0.5043\n",
      "Epoch 4/20\n",
      "71451/71451 [==============================] - 15s 214us/step - loss: 0.5027 - val_loss: 0.4970\n",
      "Epoch 5/20\n",
      "71451/71451 [==============================] - 15s 216us/step - loss: 0.4955 - val_loss: 0.4913\n",
      "Epoch 6/20\n",
      "71451/71451 [==============================] - 15s 214us/step - loss: 0.4901 - val_loss: 0.4874\n",
      "Epoch 7/20\n",
      "71451/71451 [==============================] - 16s 227us/step - loss: 0.4865 - val_loss: 0.4851\n",
      "Epoch 8/20\n",
      "71451/71451 [==============================] - 15s 217us/step - loss: 0.4843 - val_loss: 0.4839\n",
      "Epoch 9/20\n",
      "71451/71451 [==============================] - 16s 219us/step - loss: 0.4830 - val_loss: 0.4831\n",
      "Epoch 10/20\n",
      "71451/71451 [==============================] - 11s 156us/step - loss: 0.4822 - val_loss: 0.4827\n",
      "Epoch 11/20\n",
      "71451/71451 [==============================] - 11s 155us/step - loss: 0.4816 - val_loss: 0.4824\n",
      "Epoch 12/20\n",
      "71451/71451 [==============================] - 11s 151us/step - loss: 0.4812 - val_loss: 0.4822\n",
      "Epoch 13/20\n",
      "71451/71451 [==============================] - 11s 149us/step - loss: 0.4809 - val_loss: 0.4819\n",
      "Epoch 14/20\n",
      "71451/71451 [==============================] - 11s 151us/step - loss: 0.4805 - val_loss: 0.4816\n",
      "Epoch 15/20\n",
      "71451/71451 [==============================] - 11s 151us/step - loss: 0.4803 - val_loss: 0.4815\n",
      "Epoch 16/20\n",
      "71451/71451 [==============================] - 11s 150us/step - loss: 0.4800 - val_loss: 0.4813\n",
      "Epoch 17/20\n",
      "71451/71451 [==============================] - 11s 150us/step - loss: 0.4798 - val_loss: 0.4813\n",
      "Epoch 18/20\n",
      "71451/71451 [==============================] - 11s 149us/step - loss: 0.4796 - val_loss: 0.4809\n",
      "Epoch 19/20\n",
      "71451/71451 [==============================] - 11s 151us/step - loss: 0.4794 - val_loss: 0.4808\n",
      "Epoch 20/20\n",
      "71451/71451 [==============================] - 11s 158us/step - loss: 0.4792 - val_loss: 0.4806\n",
      "learning rate: 0.004\n",
      "[[30176  6290]\n",
      " [ 5449  5009]]\n",
      "accuracy: 0.749829511551\n",
      "              precision    recall  f1-score   support\n",
      "\n",
      "           0       0.85      0.83      0.84     36466\n",
      "           1       0.44      0.48      0.46     10458\n",
      "\n",
      "    accuracy                           0.75     46924\n",
      "   macro avg       0.65      0.65      0.65     46924\n",
      "weighted avg       0.76      0.75      0.75     46924\n",
      "\n",
      "Train on 71451 samples, validate on 23818 samples\n",
      "Epoch 1/20\n",
      "71451/71451 [==============================] - 12s 174us/step - loss: 0.5889 - val_loss: 0.5234\n",
      "Epoch 2/20\n",
      "71451/71451 [==============================] - 11s 151us/step - loss: 0.5183 - val_loss: 0.5089\n",
      "Epoch 3/20\n",
      "71451/71451 [==============================] - 11s 154us/step - loss: 0.5063 - val_loss: 0.4985\n",
      "Epoch 4/20\n",
      "71451/71451 [==============================] - 11s 150us/step - loss: 0.4965 - val_loss: 0.4908\n",
      "Epoch 5/20\n",
      "71451/71451 [==============================] - 11s 151us/step - loss: 0.4899 - val_loss: 0.4865\n",
      "Epoch 6/20\n",
      "71451/71451 [==============================] - 11s 150us/step - loss: 0.4863 - val_loss: 0.4844\n",
      "Epoch 7/20\n",
      "71451/71451 [==============================] - 11s 152us/step - loss: 0.4844 - val_loss: 0.4834\n",
      "Epoch 8/20\n",
      "71451/71451 [==============================] - 11s 152us/step - loss: 0.4833 - val_loss: 0.4827\n",
      "Epoch 9/20\n",
      "71451/71451 [==============================] - 11s 154us/step - loss: 0.4825 - val_loss: 0.4823\n",
      "Epoch 10/20\n",
      "71451/71451 [==============================] - 11s 151us/step - loss: 0.4820 - val_loss: 0.4819\n",
      "Epoch 11/20\n",
      "71451/71451 [==============================] - 11s 150us/step - loss: 0.4815 - val_loss: 0.4816\n",
      "Epoch 12/20\n",
      "71451/71451 [==============================] - 11s 154us/step - loss: 0.4811 - val_loss: 0.4814\n",
      "Epoch 13/20\n",
      "71451/71451 [==============================] - 11s 151us/step - loss: 0.4808 - val_loss: 0.4811ETA: 0s - loss: 0.4\n",
      "Epoch 14/20\n",
      "71451/71451 [==============================] - 12s 173us/step - loss: 0.4805 - val_loss: 0.4810\n",
      "Epoch 15/20\n",
      "71451/71451 [==============================] - 12s 173us/step - loss: 0.4802 - val_loss: 0.4808\n",
      "Epoch 16/20\n",
      "71451/71451 [==============================] - 13s 179us/step - loss: 0.4800 - val_loss: 0.4807\n",
      "Epoch 17/20\n",
      "71451/71451 [==============================] - 11s 158us/step - loss: 0.4797 - val_loss: 0.4806\n",
      "Epoch 18/20\n",
      "71451/71451 [==============================] - 11s 156us/step - loss: 0.4796 - val_loss: 0.4804\n",
      "Epoch 19/20\n",
      "71451/71451 [==============================] - 11s 154us/step - loss: 0.4794 - val_loss: 0.4803\n",
      "Epoch 20/20\n",
      "71451/71451 [==============================] - 12s 161us/step - loss: 0.4792 - val_loss: 0.4802\n",
      "learning rate: 0.005\n",
      "[[31944  4522]\n",
      " [ 6377  4081]]\n",
      "accuracy: 0.767730798738\n",
      "              precision    recall  f1-score   support\n",
      "\n",
      "           0       0.83      0.88      0.85     36466\n",
      "           1       0.47      0.39      0.43     10458\n",
      "\n",
      "    accuracy                           0.77     46924\n",
      "   macro avg       0.65      0.63      0.64     46924\n",
      "weighted avg       0.75      0.77      0.76     46924\n",
      "\n",
      "Train on 71451 samples, validate on 23818 samples\n",
      "Epoch 1/20\n",
      "71451/71451 [==============================] - 16s 218us/step - loss: 0.5530 - val_loss: 0.5085\n",
      "Epoch 2/20\n",
      "71451/71451 [==============================] - 17s 243us/step - loss: 0.5037 - val_loss: 0.4954\n",
      "Epoch 3/20\n",
      "71451/71451 [==============================] - 14s 197us/step - loss: 0.4927 - val_loss: 0.4884\n",
      "Epoch 4/20\n",
      "71451/71451 [==============================] - 15s 213us/step - loss: 0.4871 - val_loss: 0.4853\n",
      "Epoch 5/20\n",
      "71451/71451 [==============================] - 17s 240us/step - loss: 0.4844 - val_loss: 0.4839\n",
      "Epoch 6/20\n",
      "71451/71451 [==============================] - 12s 165us/step - loss: 0.4830 - val_loss: 0.4831\n",
      "Epoch 7/20\n",
      "71451/71451 [==============================] - 11s 154us/step - loss: 0.4821 - val_loss: 0.4827\n",
      "Epoch 8/20\n",
      "71451/71451 [==============================] - 11s 155us/step - loss: 0.4814 - val_loss: 0.4822\n",
      "Epoch 9/20\n",
      "71451/71451 [==============================] - 11s 153us/step - loss: 0.4809 - val_loss: 0.4819\n",
      "Epoch 10/20\n",
      "71451/71451 [==============================] - 11s 152us/step - loss: 0.4805 - val_loss: 0.4817\n",
      "Epoch 11/20\n",
      "71451/71451 [==============================] - 16s 227us/step - loss: 0.4801 - val_loss: 0.4814\n",
      "Epoch 12/20\n",
      "71451/71451 [==============================] - 16s 226us/step - loss: 0.4798 - val_loss: 0.4812\n",
      "Epoch 13/20\n",
      "71451/71451 [==============================] - 16s 230us/step - loss: 0.4795 - val_loss: 0.4810\n",
      "Epoch 14/20\n",
      "71451/71451 [==============================] - 16s 226us/step - loss: 0.4793 - val_loss: 0.4808\n",
      "Epoch 15/20\n",
      "71451/71451 [==============================] - 15s 204us/step - loss: 0.4790 - val_loss: 0.4806\n",
      "Epoch 16/20\n",
      "71451/71451 [==============================] - 18s 251us/step - loss: 0.4787 - val_loss: 0.4805\n",
      "Epoch 17/20\n",
      "71451/71451 [==============================] - 16s 217us/step - loss: 0.4785 - val_loss: 0.4803\n",
      "Epoch 18/20\n",
      "71451/71451 [==============================] - 14s 200us/step - loss: 0.4783 - val_loss: 0.4803\n",
      "Epoch 19/20\n",
      "71451/71451 [==============================] - 14s 192us/step - loss: 0.4781 - val_loss: 0.4801\n",
      "Epoch 20/20\n",
      "71451/71451 [==============================] - 13s 186us/step - loss: 0.4779 - val_loss: 0.4798\n",
      "learning rate: 0.006\n",
      "[[31578  4888]\n",
      " [ 6146  4312]]\n",
      "accuracy: 0.764853806155\n",
      "              precision    recall  f1-score   support\n",
      "\n",
      "           0       0.84      0.87      0.85     36466\n",
      "           1       0.47      0.41      0.44     10458\n",
      "\n",
      "    accuracy                           0.76     46924\n",
      "   macro avg       0.65      0.64      0.64     46924\n",
      "weighted avg       0.75      0.76      0.76     46924\n",
      "\n"
     ]
    }
   ],
   "source": [
    "early_stopping_monitor = EarlyStopping(patience=3)\n",
    "\n",
    "def get_new_model(input_shape = n_cols):\n",
    "    model = Sequential()\n",
    "    model.add(Dense(250, activation='relu', input_shape = (input_shape,)))\n",
    "    model.add(Dense(250, activation='relu'))\n",
    "    model.add(Dense(250, activation='relu'))\n",
    "    model.add(Dense(250, activation='relu'))\n",
    "    model.add(Dense(2, activation='sigmoid'))\n",
    "    return(model)\n",
    "lr_to_test = [0.004,0.005,0.006]\n",
    "# loop over learning rates\n",
    "history = []\n",
    "for lr in lr_to_test:\n",
    "    model = get_new_model()\n",
    "    my_optimizer = keras.optimizers.SGD(lr=lr)\n",
    "    model.compile(optimizer = my_optimizer, loss = 'categorical_crossentropy')\n",
    "    history.append(model.fit(X_train_transformed, target, batch_size=120,validation_split=0.25,\n",
    "                             class_weight =class_weight, epochs=20,callbacks = [early_stopping_monitor]))\n",
    "    prediction = model.predict(X_test_tr)\n",
    "    prediction[prediction>=0.5]=1\n",
    "    prediction[prediction<0.5]=0\n",
    "\n",
    "    prediction_tr = []\n",
    "    for i in range(prediction.shape[0]):\n",
    "        if prediction[i,0] == 1:\n",
    "            prediction_tr.append(0)\n",
    "        else:\n",
    "            prediction_tr.append(1)\n",
    "\n",
    "    prediction_tr = pd.Series(np.array(prediction_tr))\n",
    "    cfm = confusion_matrix(y_test, prediction_tr)\n",
    "    print(\"learning rate:\",lr)\n",
    "    print(cfm)\n",
    "    print(\"accuracy:\",(cfm[0,0]+cfm[1,1])/(cfm.sum()))\n",
    "    print(classification_report(y_test,prediction_tr))"
   ]
  },
  {
   "cell_type": "code",
   "execution_count": 28,
   "metadata": {
    "collapsed": false
   },
   "outputs": [
    {
     "name": "stdout",
     "output_type": "stream",
     "text": [
      "Train on 71451 samples, validate on 23818 samples\n",
      "Epoch 1/20\n",
      "71451/71451 [==============================] - 13s 180us/step - loss: 0.5638 - val_loss: 0.5181\n",
      "Epoch 2/20\n",
      "71451/71451 [==============================] - 11s 158us/step - loss: 0.5127 - val_loss: 0.5014\n",
      "Epoch 3/20\n",
      "71451/71451 [==============================] - 11s 159us/step - loss: 0.4976 - val_loss: 0.4906\n",
      "Epoch 4/20\n",
      "71451/71451 [==============================] - 12s 170us/step - loss: 0.4892 - val_loss: 0.4860\n",
      "Epoch 5/20\n",
      "71451/71451 [==============================] - 12s 166us/step - loss: 0.4856 - val_loss: 0.4843\n",
      "Epoch 6/20\n",
      "71451/71451 [==============================] - 12s 163us/step - loss: 0.4839 - val_loss: 0.4837\n",
      "Epoch 7/20\n",
      "71451/71451 [==============================] - 15s 207us/step - loss: 0.4830 - val_loss: 0.4831\n",
      "Epoch 8/20\n",
      "71451/71451 [==============================] - 14s 202us/step - loss: 0.4823 - val_loss: 0.4829\n",
      "Epoch 9/20\n",
      "71451/71451 [==============================] - 15s 206us/step - loss: 0.4819 - val_loss: 0.4824\n",
      "Epoch 10/20\n",
      "71451/71451 [==============================] - 15s 205us/step - loss: 0.4815 - val_loss: 0.4822\n",
      "Epoch 11/20\n",
      "71451/71451 [==============================] - 14s 199us/step - loss: 0.4811 - val_loss: 0.4820\n",
      "Epoch 12/20\n",
      "71451/71451 [==============================] - 13s 184us/step - loss: 0.4808 - val_loss: 0.4818\n",
      "Epoch 13/20\n",
      "71451/71451 [==============================] - 13s 182us/step - loss: 0.4805 - val_loss: 0.4816\n",
      "Epoch 14/20\n",
      "71451/71451 [==============================] - 15s 211us/step - loss: 0.4803 - val_loss: 0.4814\n",
      "Epoch 15/20\n",
      "71451/71451 [==============================] - 19s 263us/step - loss: 0.4801 - val_loss: 0.4813ss: 0\n",
      "Epoch 16/20\n",
      "71451/71451 [==============================] - 15s 206us/step - loss: 0.4798 - val_loss: 0.4811\n",
      "Epoch 17/20\n",
      "71451/71451 [==============================] - 10s 146us/step - loss: 0.4796 - val_loss: 0.4809\n",
      "Epoch 18/20\n",
      "71451/71451 [==============================] - 10s 142us/step - loss: 0.4794 - val_loss: 0.4808\n",
      "Epoch 19/20\n",
      "71451/71451 [==============================] - 12s 161us/step - loss: 0.4792 - val_loss: 0.4809\n",
      "Epoch 20/20\n",
      "71451/71451 [==============================] - 11s 151us/step - loss: 0.4790 - val_loss: 0.4805\n"
     ]
    },
    {
     "ename": "ValueError",
     "evalue": "Found input variables with inconsistent numbers of samples: [46924, 1]",
     "output_type": "error",
     "traceback": [
      "\u001b[1;31m---------------------------------------------------------------------------\u001b[0m",
      "\u001b[1;31mValueError\u001b[0m                                Traceback (most recent call last)",
      "\u001b[1;32m<ipython-input-28-d555a38ee035>\u001b[0m in \u001b[0;36m<module>\u001b[1;34m\u001b[0m\n\u001b[0;32m     24\u001b[0m \u001b[1;33m\u001b[0m\u001b[0m\n\u001b[0;32m     25\u001b[0m \u001b[0mprediction_tr\u001b[0m \u001b[1;33m=\u001b[0m \u001b[0mpd\u001b[0m\u001b[1;33m.\u001b[0m\u001b[0mSeries\u001b[0m\u001b[1;33m(\u001b[0m\u001b[0mnp\u001b[0m\u001b[1;33m.\u001b[0m\u001b[0marray\u001b[0m\u001b[1;33m(\u001b[0m\u001b[0mprediction_tr\u001b[0m\u001b[1;33m)\u001b[0m\u001b[1;33m)\u001b[0m\u001b[1;33m\u001b[0m\u001b[1;33m\u001b[0m\u001b[0m\n\u001b[1;32m---> 26\u001b[1;33m \u001b[0mcfm\u001b[0m \u001b[1;33m=\u001b[0m \u001b[0mconfusion_matrix\u001b[0m\u001b[1;33m(\u001b[0m\u001b[0my_test\u001b[0m\u001b[1;33m,\u001b[0m \u001b[0mprediction_tr\u001b[0m\u001b[1;33m)\u001b[0m\u001b[1;33m\u001b[0m\u001b[1;33m\u001b[0m\u001b[0m\n\u001b[0m\u001b[0;32m     27\u001b[0m \u001b[0mprint\u001b[0m\u001b[1;33m(\u001b[0m\u001b[1;34m\"learning rate:\"\u001b[0m\u001b[1;33m,\u001b[0m\u001b[0mlr\u001b[0m\u001b[1;33m)\u001b[0m\u001b[1;33m\u001b[0m\u001b[1;33m\u001b[0m\u001b[0m\n\u001b[0;32m     28\u001b[0m \u001b[0mprint\u001b[0m\u001b[1;33m(\u001b[0m\u001b[0mcfm\u001b[0m\u001b[1;33m)\u001b[0m\u001b[1;33m\u001b[0m\u001b[1;33m\u001b[0m\u001b[0m\n",
      "\u001b[1;32mc:\\users\\ahmad nur aziz\\anaconda3\\envs\\opencv-env\\lib\\site-packages\\sklearn\\metrics\\classification.py\u001b[0m in \u001b[0;36mconfusion_matrix\u001b[1;34m(y_true, y_pred, labels, sample_weight)\u001b[0m\n\u001b[0;32m    251\u001b[0m \u001b[1;33m\u001b[0m\u001b[0m\n\u001b[0;32m    252\u001b[0m     \"\"\"\n\u001b[1;32m--> 253\u001b[1;33m     \u001b[0my_type\u001b[0m\u001b[1;33m,\u001b[0m \u001b[0my_true\u001b[0m\u001b[1;33m,\u001b[0m \u001b[0my_pred\u001b[0m \u001b[1;33m=\u001b[0m \u001b[0m_check_targets\u001b[0m\u001b[1;33m(\u001b[0m\u001b[0my_true\u001b[0m\u001b[1;33m,\u001b[0m \u001b[0my_pred\u001b[0m\u001b[1;33m)\u001b[0m\u001b[1;33m\u001b[0m\u001b[1;33m\u001b[0m\u001b[0m\n\u001b[0m\u001b[0;32m    254\u001b[0m     \u001b[1;32mif\u001b[0m \u001b[0my_type\u001b[0m \u001b[1;32mnot\u001b[0m \u001b[1;32min\u001b[0m \u001b[1;33m(\u001b[0m\u001b[1;34m\"binary\"\u001b[0m\u001b[1;33m,\u001b[0m \u001b[1;34m\"multiclass\"\u001b[0m\u001b[1;33m)\u001b[0m\u001b[1;33m:\u001b[0m\u001b[1;33m\u001b[0m\u001b[1;33m\u001b[0m\u001b[0m\n\u001b[0;32m    255\u001b[0m         \u001b[1;32mraise\u001b[0m \u001b[0mValueError\u001b[0m\u001b[1;33m(\u001b[0m\u001b[1;34m\"%s is not supported\"\u001b[0m \u001b[1;33m%\u001b[0m \u001b[0my_type\u001b[0m\u001b[1;33m)\u001b[0m\u001b[1;33m\u001b[0m\u001b[1;33m\u001b[0m\u001b[0m\n",
      "\u001b[1;32mc:\\users\\ahmad nur aziz\\anaconda3\\envs\\opencv-env\\lib\\site-packages\\sklearn\\metrics\\classification.py\u001b[0m in \u001b[0;36m_check_targets\u001b[1;34m(y_true, y_pred)\u001b[0m\n\u001b[0;32m     69\u001b[0m     \u001b[0my_pred\u001b[0m \u001b[1;33m:\u001b[0m \u001b[0marray\u001b[0m \u001b[1;32mor\u001b[0m \u001b[0mindicator\u001b[0m \u001b[0mmatrix\u001b[0m\u001b[1;33m\u001b[0m\u001b[1;33m\u001b[0m\u001b[0m\n\u001b[0;32m     70\u001b[0m     \"\"\"\n\u001b[1;32m---> 71\u001b[1;33m     \u001b[0mcheck_consistent_length\u001b[0m\u001b[1;33m(\u001b[0m\u001b[0my_true\u001b[0m\u001b[1;33m,\u001b[0m \u001b[0my_pred\u001b[0m\u001b[1;33m)\u001b[0m\u001b[1;33m\u001b[0m\u001b[1;33m\u001b[0m\u001b[0m\n\u001b[0m\u001b[0;32m     72\u001b[0m     \u001b[0mtype_true\u001b[0m \u001b[1;33m=\u001b[0m \u001b[0mtype_of_target\u001b[0m\u001b[1;33m(\u001b[0m\u001b[0my_true\u001b[0m\u001b[1;33m)\u001b[0m\u001b[1;33m\u001b[0m\u001b[1;33m\u001b[0m\u001b[0m\n\u001b[0;32m     73\u001b[0m     \u001b[0mtype_pred\u001b[0m \u001b[1;33m=\u001b[0m \u001b[0mtype_of_target\u001b[0m\u001b[1;33m(\u001b[0m\u001b[0my_pred\u001b[0m\u001b[1;33m)\u001b[0m\u001b[1;33m\u001b[0m\u001b[1;33m\u001b[0m\u001b[0m\n",
      "\u001b[1;32mc:\\users\\ahmad nur aziz\\anaconda3\\envs\\opencv-env\\lib\\site-packages\\sklearn\\utils\\validation.py\u001b[0m in \u001b[0;36mcheck_consistent_length\u001b[1;34m(*arrays)\u001b[0m\n\u001b[0;32m    203\u001b[0m     \u001b[1;32mif\u001b[0m \u001b[0mlen\u001b[0m\u001b[1;33m(\u001b[0m\u001b[0muniques\u001b[0m\u001b[1;33m)\u001b[0m \u001b[1;33m>\u001b[0m \u001b[1;36m1\u001b[0m\u001b[1;33m:\u001b[0m\u001b[1;33m\u001b[0m\u001b[1;33m\u001b[0m\u001b[0m\n\u001b[0;32m    204\u001b[0m         raise ValueError(\"Found input variables with inconsistent numbers of\"\n\u001b[1;32m--> 205\u001b[1;33m                          \" samples: %r\" % [int(l) for l in lengths])\n\u001b[0m\u001b[0;32m    206\u001b[0m \u001b[1;33m\u001b[0m\u001b[0m\n\u001b[0;32m    207\u001b[0m \u001b[1;33m\u001b[0m\u001b[0m\n",
      "\u001b[1;31mValueError\u001b[0m: Found input variables with inconsistent numbers of samples: [46924, 1]"
     ]
    }
   ],
   "source": [
    "early_stopping_monitor = EarlyStopping(patience=3)\n",
    "\n",
    "model = Sequential()\n",
    "model.add(Dense(200, activation='relu', input_shape = (n_cols,)))\n",
    "model.add(Dense(200, activation='relu'))\n",
    "model.add(Dense(200, activation='relu'))\n",
    "model.add(Dense(200, activation='relu'))\n",
    "model.add(Dense(2, activation='sigmoid'))\n",
    "    \n",
    "my_optimizer = keras.optimizers.SGD(0.006)\n",
    "model.compile(optimizer = my_optimizer, loss = 'categorical_crossentropy')\n",
    "history.append(model.fit(X_train_transformed, target, batch_size=120,validation_split=0.25,\n",
    "                             class_weight =class_weight, epochs=20,callbacks = [early_stopping_monitor]))\n",
    "prediction = model.predict(X_test_tr)\n",
    "prediction[prediction>=0.5]=1\n",
    "prediction[prediction<0.5]=0\n",
    "\n",
    "prediction_tr = []\n",
    "\n",
    "if prediction[i,0] == 1:\n",
    "    prediction_tr.append(0)\n",
    "else:\n",
    "    prediction_tr.append(1)\n",
    "\n",
    "prediction_tr = pd.Series(np.array(prediction_tr))\n",
    "cfm = confusion_matrix(y_test, prediction_tr)\n",
    "print(\"learning rate:\",0.006)\n",
    "print(cfm)\n",
    "print(\"accuracy:\",(cfm[0,0]+cfm[1,1])/(cfm.sum()))\n",
    "print(classification_report(y_test,prediction_tr))"
   ]
  },
  {
   "cell_type": "code",
   "execution_count": null,
   "metadata": {
    "collapsed": true
   },
   "outputs": [],
   "source": []
  },
  {
   "cell_type": "code",
   "execution_count": 21,
   "metadata": {
    "collapsed": true
   },
   "outputs": [],
   "source": [
    "from sklearn.utils import class_weight\n",
    "class_weight = class_weight.compute_class_weight('balanced'\n",
    "                                               ,np.unique(y_train)\n",
    "                                               ,y_train)"
   ]
  },
  {
   "cell_type": "code",
   "execution_count": null,
   "metadata": {
    "collapsed": true
   },
   "outputs": [],
   "source": []
  }
 ],
 "metadata": {
  "kernelspec": {
   "display_name": "Python 3",
   "language": "python",
   "name": "python3"
  },
  "language_info": {
   "codemirror_mode": {
    "name": "ipython",
    "version": 3
   },
   "file_extension": ".py",
   "mimetype": "text/x-python",
   "name": "python",
   "nbconvert_exporter": "python",
   "pygments_lexer": "ipython3",
   "version": "3.6.0"
  }
 },
 "nbformat": 4,
 "nbformat_minor": 2
}
